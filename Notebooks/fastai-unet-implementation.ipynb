{
 "cells": [
  {
   "cell_type": "code",
   "execution_count": 1,
   "metadata": {
    "ExecuteTime": {
     "end_time": "2019-08-02T10:26:31.697042Z",
     "start_time": "2019-08-02T10:26:31.690290Z"
    }
   },
   "outputs": [
    {
     "name": "stdout",
     "output_type": "stream",
     "text": [
      "/home/chengjiun/Workspace/kaggle-2019Q3-siim\n"
     ]
    }
   ],
   "source": [
    "%cd ~/Workspace/kaggle-2019Q3-siim/"
   ]
  },
  {
   "cell_type": "code",
   "execution_count": 6,
   "metadata": {
    "ExecuteTime": {
     "end_time": "2019-08-02T10:34:53.692085Z",
     "start_time": "2019-08-02T10:34:53.663800Z"
    }
   },
   "outputs": [],
   "source": [
    "Path.mkdir??"
   ]
  },
  {
   "cell_type": "code",
   "execution_count": null,
   "metadata": {},
   "outputs": [],
   "source": [
    "Path(checkpoint_path).mkdir(exis)"
   ]
  },
  {
   "cell_type": "code",
   "execution_count": 2,
   "metadata": {
    "ExecuteTime": {
     "end_time": "2019-08-02T10:26:33.441960Z",
     "start_time": "2019-08-02T10:26:32.242979Z"
    }
   },
   "outputs": [
    {
     "ename": "TypeError",
     "evalue": "mkdir() got an unexpected keyword argument 'exit_ok'",
     "output_type": "error",
     "traceback": [
      "\u001b[0;31m---------------------------------------------------------------------------\u001b[0m",
      "\u001b[0;31mTypeError\u001b[0m                                 Traceback (most recent call last)",
      "\u001b[0;32m<ipython-input-2-733135ef42fc>\u001b[0m in \u001b[0;36m<module>\u001b[0;34m\u001b[0m\n\u001b[1;32m     44\u001b[0m \u001b[0;32mfrom\u001b[0m \u001b[0mpathlib\u001b[0m \u001b[0;32mimport\u001b[0m \u001b[0mPath\u001b[0m\u001b[0;34m\u001b[0m\u001b[0;34m\u001b[0m\u001b[0m\n\u001b[1;32m     45\u001b[0m \u001b[0mcheckpoint_path\u001b[0m \u001b[0;34m=\u001b[0m \u001b[0;34m\"checkpoints/fastai-resnet34/\"\u001b[0m\u001b[0;34m\u001b[0m\u001b[0;34m\u001b[0m\u001b[0m\n\u001b[0;32m---> 46\u001b[0;31m \u001b[0mPath\u001b[0m\u001b[0;34m(\u001b[0m\u001b[0mcheckpoint_path\u001b[0m\u001b[0;34m)\u001b[0m\u001b[0;34m.\u001b[0m\u001b[0mmkdir\u001b[0m\u001b[0;34m(\u001b[0m\u001b[0mexit_ok\u001b[0m\u001b[0;34m=\u001b[0m\u001b[0;32mTrue\u001b[0m\u001b[0;34m)\u001b[0m\u001b[0;34m\u001b[0m\u001b[0;34m\u001b[0m\u001b[0m\n\u001b[0m\u001b[1;32m     47\u001b[0m \u001b[0mstats\u001b[0m \u001b[0;34m=\u001b[0m \u001b[0mIMAGE_STATS_DICT\u001b[0m\u001b[0;34m[\u001b[0m\u001b[0msz\u001b[0m\u001b[0;34m]\u001b[0m\u001b[0;34m\u001b[0m\u001b[0;34m\u001b[0m\u001b[0m\n\u001b[1;32m     48\u001b[0m \u001b[0;34m\u001b[0m\u001b[0m\n",
      "\u001b[0;31mTypeError\u001b[0m: mkdir() got an unexpected keyword argument 'exit_ok'"
     ]
    }
   ],
   "source": [
    "import torch\n",
    "import torchvision\n",
    "import fastai\n",
    "from fastai.vision import Learner, DatasetType, flip_lr, progress_bar\n",
    "from TOOLS.mask_functions import mask2rle\n",
    "from utils import seed_everything\n",
    "from models.fastai_unet_learner import (\n",
    "    acc_create_opt,\n",
    "    unet_learner,\n",
    "    dice,\n",
    "    set_BN_momentum,\n",
    "    AccumulateStep,\n",
    "    dice_overall,\n",
    ")\n",
    "from dataset.fastai_data import new_transform, get_data\n",
    "import numpy as np\n",
    "import PIL\n",
    "import pandas as pd\n",
    "import gc\n",
    "from functools import partial\n",
    "\n",
    "sz = 256\n",
    "bs = 1\n",
    "n_acc = 64 // bs  # gradinet accumulation steps\n",
    "nfolds = 1\n",
    "SEED = 2019\n",
    "\n",
    "# eliminate all predictions with a few (noise_th) pixesls\n",
    "noise_th = 75.0 * (sz / 128.0) ** 2  # threshold for the number of predicted pixels\n",
    "best_thr0 = 0.2  # preliminary value of the threshold for metric calculation\n",
    "\n",
    "IMAGE_STATS_DICT = {\n",
    "    128: ([0.615, 0.615, 0.615], [0.291, 0.291, 0.291]),\n",
    "    256: ([0.540, 0.540, 0.540], [0.264, 0.264, 0.264]),\n",
    "    512: ([0.529, 0.529, 0.529], [0.259, 0.259, 0.259]),\n",
    "}\n",
    "\n",
    "\n",
    "TRAIN = f\"input/train_{sz}\"\n",
    "TEST = f\"input/test_{sz}\"\n",
    "MASKS = f\"input/masks_{sz}\"\n",
    "backbone = torchvision.models.resnet34\n",
    "\n",
    "from pathlib import Path\n",
    "checkpoint_path = \"checkpoints/fastai-resnet34/\"\n",
    "Path(checkpoint_path).mkdir(exist_ok=True)\n",
    "stats = IMAGE_STATS_DICT[sz]\n",
    "\n",
    "\n",
    "# Prediction with flip TTA\n",
    "def pred_with_flip(\n",
    "    learn: fastai.basic_train.Learner,\n",
    "    ds_type: fastai.basic_data.DatasetType = DatasetType.Valid,\n",
    "):\n",
    "    # get prediction\n",
    "    preds, ys = learn.get_preds(ds_type)\n",
    "    preds = preds[:, 1, ...]\n",
    "    # add fiip to dataset and get prediction\n",
    "    learn.data.dl(ds_type).dl.dataset.tfms.append(flip_lr())\n",
    "    preds_lr, ys = learn.get_preds(ds_type)\n",
    "    del learn.data.dl(ds_type).dl.dataset.tfms[-1]\n",
    "    preds_lr = preds_lr[:, 1, ...]\n",
    "    ys = ys.squeeze()\n",
    "    preds = 0.5 * (preds + torch.flip(preds_lr, [-1]))\n",
    "    del preds_lr\n",
    "    gc.collect()\n",
    "    torch.cuda.empty_cache()\n",
    "    return preds, ys"
   ]
  },
  {
   "cell_type": "code",
   "execution_count": null,
   "metadata": {
    "ExecuteTime": {
     "end_time": "2019-08-02T10:26:23.879685Z",
     "start_time": "2019-08-02T10:26:23.229Z"
    }
   },
   "outputs": [],
   "source": [
    "\n",
    "seed_everything(SEED)\n",
    "\n",
    "\n",
    "Learner.create_opt = acc_create_opt\n",
    "\n",
    "fastai.data_block.ItemLists.transform = new_transform\n",
    "\n",
    "get_data_p = partial(get_data, TRAIN, TEST, stats, sz, bs)\n",
    "dice_p = partial(dice, best_thr0, noise_th)"
   ]
  },
  {
   "cell_type": "code",
   "execution_count": null,
   "metadata": {
    "ExecuteTime": {
     "end_time": "2019-08-02T10:26:23.890787Z",
     "start_time": "2019-08-02T10:26:23.692Z"
    }
   },
   "outputs": [],
   "source": [
    "\n",
    "# Display some images with masks\n",
    "get_data_p(0).show_batch()"
   ]
  },
  {
   "cell_type": "code",
   "execution_count": 3,
   "metadata": {
    "ExecuteTime": {
     "end_time": "2019-08-02T10:26:24.506497Z",
     "start_time": "2019-08-02T10:26:24.498883Z"
    }
   },
   "outputs": [
    {
     "ename": "NameError",
     "evalue": "name 'get_data_p' is not defined",
     "output_type": "error",
     "traceback": [
      "\u001b[0;31m---------------------------------------------------------------------------\u001b[0m",
      "\u001b[0;31mNameError\u001b[0m                                 Traceback (most recent call last)",
      "\u001b[0;32m<ipython-input-3-f23a529fa7db>\u001b[0m in \u001b[0;36m<module>\u001b[0;34m\u001b[0m\n\u001b[0;32m----> 1\u001b[0;31m \u001b[0munet_learner\u001b[0m\u001b[0;34m(\u001b[0m\u001b[0mget_data_p\u001b[0m\u001b[0;34m(\u001b[0m\u001b[0;36m0\u001b[0m\u001b[0;34m)\u001b[0m\u001b[0;34m,\u001b[0m \u001b[0mbackbone\u001b[0m\u001b[0;34m,\u001b[0m \u001b[0mmetrics\u001b[0m\u001b[0;34m=\u001b[0m\u001b[0;34m[\u001b[0m\u001b[0mdice_p\u001b[0m\u001b[0;34m]\u001b[0m\u001b[0;34m)\u001b[0m\u001b[0;34m.\u001b[0m\u001b[0mmodel\u001b[0m\u001b[0;34m\u001b[0m\u001b[0;34m\u001b[0m\u001b[0m\n\u001b[0m",
      "\u001b[0;31mNameError\u001b[0m: name 'get_data_p' is not defined"
     ]
    }
   ],
   "source": [
    "\n",
    "unet_learner(get_data_p(0), backbone, metrics=[dice_p]).model"
   ]
  },
  {
   "cell_type": "code",
   "execution_count": 4,
   "metadata": {
    "ExecuteTime": {
     "end_time": "2019-08-02T10:26:25.358252Z",
     "start_time": "2019-08-02T10:26:25.341441Z"
    }
   },
   "outputs": [
    {
     "name": "stdout",
     "output_type": "stream",
     "text": [
      "fold:  0\n"
     ]
    },
    {
     "ename": "NameError",
     "evalue": "name 'get_data_p' is not defined",
     "output_type": "error",
     "traceback": [
      "\u001b[0;31m---------------------------------------------------------------------------\u001b[0m",
      "\u001b[0;31mNameError\u001b[0m                                 Traceback (most recent call last)",
      "\u001b[0;32m<ipython-input-4-5e8719fc7bac>\u001b[0m in \u001b[0;36m<module>\u001b[0;34m\u001b[0m\n\u001b[1;32m      6\u001b[0m \u001b[0;32mfor\u001b[0m \u001b[0mfold\u001b[0m \u001b[0;32min\u001b[0m \u001b[0mrange\u001b[0m\u001b[0;34m(\u001b[0m\u001b[0mnfolds\u001b[0m\u001b[0;34m)\u001b[0m\u001b[0;34m:\u001b[0m\u001b[0;34m\u001b[0m\u001b[0;34m\u001b[0m\u001b[0m\n\u001b[1;32m      7\u001b[0m     \u001b[0mprint\u001b[0m\u001b[0;34m(\u001b[0m\u001b[0;34m\"fold: \"\u001b[0m\u001b[0;34m,\u001b[0m \u001b[0mfold\u001b[0m\u001b[0;34m)\u001b[0m\u001b[0;34m\u001b[0m\u001b[0;34m\u001b[0m\u001b[0m\n\u001b[0;32m----> 8\u001b[0;31m     \u001b[0mdata\u001b[0m \u001b[0;34m=\u001b[0m \u001b[0mget_data_p\u001b[0m\u001b[0;34m(\u001b[0m\u001b[0mfold\u001b[0m\u001b[0;34m)\u001b[0m\u001b[0;34m\u001b[0m\u001b[0;34m\u001b[0m\u001b[0m\n\u001b[0m\u001b[1;32m      9\u001b[0m     \u001b[0mlearn\u001b[0m \u001b[0;34m=\u001b[0m \u001b[0munet_learner\u001b[0m\u001b[0;34m(\u001b[0m\u001b[0mdata\u001b[0m\u001b[0;34m,\u001b[0m \u001b[0mbackbone\u001b[0m\u001b[0;34m,\u001b[0m \u001b[0mmetrics\u001b[0m\u001b[0;34m=\u001b[0m\u001b[0;34m[\u001b[0m\u001b[0mdice_p\u001b[0m\u001b[0;34m]\u001b[0m\u001b[0;34m)\u001b[0m\u001b[0;34m\u001b[0m\u001b[0;34m\u001b[0m\u001b[0m\n\u001b[1;32m     10\u001b[0m     \u001b[0mlearn\u001b[0m\u001b[0;34m.\u001b[0m\u001b[0mclip_grad\u001b[0m\u001b[0;34m(\u001b[0m\u001b[0;36m1.0\u001b[0m\u001b[0;34m)\u001b[0m\u001b[0;34m\u001b[0m\u001b[0;34m\u001b[0m\u001b[0m\n",
      "\u001b[0;31mNameError\u001b[0m: name 'get_data_p' is not defined"
     ]
    }
   ],
   "source": [
    "circle_1 = 1\n",
    "circle_2 = 1\n",
    "lr_0 = 1e-3\n",
    "scores, best_thrs = [], []\n",
    "\n",
    "for fold in range(nfolds):\n",
    "    print(\"fold: \", fold)\n",
    "    data = get_data_p(fold)\n",
    "    learn = unet_learner(data, backbone, metrics=[dice_p])\n",
    "    learn.clip_grad(1.0)\n",
    "    set_BN_momentum(learn.model)\n",
    "\n",
    "    # fit the decoder part of the model keeping the encode frozen\n",
    "    lr = lr_0\n",
    "    learn.fit_one_cycle(circle_1, lr, callbacks=[AccumulateStep(learn, n_acc)])\n",
    "\n",
    "    # fit entire model with saving on the best epoch\n",
    "    learn.unfreeze()\n",
    "    learn.fit_one_cycle(\n",
    "        circle_2, slice(lr / 80, lr / 2), callbacks=[AccumulateStep(learn, n_acc)]\n",
    "    )\n",
    "    learn.save(checkpoint_path+\"/fold\" + str(fold))\n",
    "\n",
    "    # prediction on val and test sets\n",
    "    preds, ys = pred_with_flip(learn)\n",
    "    pt, _ = pred_with_flip(learn, DatasetType.Test)\n",
    "\n",
    "    if fold == 0:\n",
    "        preds_test = pt\n",
    "    else:\n",
    "        preds_test += pt\n",
    "\n",
    "    # convert predictions to byte type and save\n",
    "    preds_save = (preds * 255.0).byte()\n",
    "    torch.save(preds_save, checkpoint_path + \"/preds_fold\" + str(fold) + \".pt\")\n",
    "    np.save(checkpoint_path + \"/items_fold\" + str(fold), data.valid_ds.items)\n",
    "\n",
    "    # remove noise\n",
    "    preds[preds.view(preds.shape[0], -1).sum(-1) < noise_th, ...] = 0.0\n",
    "\n",
    "    # optimal threshold\n",
    "    # The best way would be collecting all oof predictions followed by a single threshold\n",
    "    # calculation. However, it requres too much RAM for high image resolution\n",
    "    dices = []\n",
    "    thrs = np.arange(0.01, 1, 0.01)\n",
    "    for th in progress_bar(thrs):\n",
    "        preds_m = (preds > th).long()\n",
    "        dices.append(dice_overall(preds_m, ys).mean())\n",
    "    dices = np.array(dices)\n",
    "    scores.append(dices.max())\n",
    "    best_thrs.append(thrs[dices.argmax()])\n",
    "\n",
    "    if fold != nfolds - 1:\n",
    "        del preds, ys, preds_save\n",
    "    gc.collect()\n",
    "    torch.cuda.empty_cache()\n",
    "\n",
    "preds_test /= nfolds\n",
    "\n",
    "print(\"scores: \", scores)\n",
    "print(\"mean score: \", np.array(scores).mean())\n",
    "print(\"thresholds: \", best_thrs)\n",
    "best_thr = np.array(best_thrs).mean()\n",
    "print(\"best threshold: \", best_thr)"
   ]
  },
  {
   "cell_type": "code",
   "execution_count": null,
   "metadata": {},
   "outputs": [],
   "source": []
  }
 ],
 "metadata": {
  "kernelspec": {
   "display_name": "Python 3",
   "language": "python",
   "name": "python3"
  },
  "toc": {
   "base_numbering": 1,
   "nav_menu": {},
   "number_sections": true,
   "sideBar": true,
   "skip_h1_title": false,
   "title_cell": "Table of Contents",
   "title_sidebar": "Contents",
   "toc_cell": false,
   "toc_position": {},
   "toc_section_display": true,
   "toc_window_display": false
  },
  "varInspector": {
   "cols": {
    "lenName": 16,
    "lenType": 16,
    "lenVar": 40
   },
   "kernels_config": {
    "python": {
     "delete_cmd_postfix": "",
     "delete_cmd_prefix": "del ",
     "library": "var_list.py",
     "varRefreshCmd": "print(var_dic_list())"
    },
    "r": {
     "delete_cmd_postfix": ") ",
     "delete_cmd_prefix": "rm(",
     "library": "var_list.r",
     "varRefreshCmd": "cat(var_dic_list()) "
    }
   },
   "types_to_exclude": [
    "module",
    "function",
    "builtin_function_or_method",
    "instance",
    "_Feature"
   ],
   "window_display": false
  }
 },
 "nbformat": 4,
 "nbformat_minor": 2
}
