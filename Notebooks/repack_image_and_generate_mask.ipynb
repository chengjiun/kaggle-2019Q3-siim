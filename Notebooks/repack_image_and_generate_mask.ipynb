{
 "cells": [
  {
   "cell_type": "code",
   "execution_count": 1,
   "metadata": {
    "ExecuteTime": {
     "end_time": "2019-08-02T06:20:14.728614Z",
     "start_time": "2019-08-02T06:20:14.722912Z"
    }
   },
   "outputs": [
    {
     "name": "stdout",
     "output_type": "stream",
     "text": [
      "/home/chengjiun/Workspace/kaggle-2019Q3-siim\n"
     ]
    }
   ],
   "source": [
    "%cd ~/Workspace/kaggle-2019Q3-siim/\n"
   ]
  },
  {
   "cell_type": "markdown",
   "metadata": {},
   "source": [
    "# top\n",
    "\n",
    "- copied from https://www.kaggle.com/chengjiun/siim-data-repack-and-image-statistics/edit\n",
    "- to rescale the image to smaller size, and make mask for fastai"
   ]
  },
  {
   "cell_type": "code",
   "execution_count": 2,
   "metadata": {
    "ExecuteTime": {
     "end_time": "2019-08-02T06:20:16.954015Z",
     "start_time": "2019-08-02T06:20:16.054501Z"
    }
   },
   "outputs": [],
   "source": [
    "import os\n",
    "import cv2\n",
    "from glob import glob\n",
    "import pydicom\n",
    "from tqdm import tqdm_notebook as tqdm\n",
    "import zipfile\n",
    "import io\n",
    "import pandas as pd\n",
    "import numpy as np\n",
    "from PIL import Image\n",
    "import matplotlib.pyplot as plt\n",
    "from skimage import exposure\n",
    "from TOOLS.mask_functions import *"
   ]
  },
  {
   "cell_type": "code",
   "execution_count": 3,
   "metadata": {
    "ExecuteTime": {
     "end_time": "2019-08-02T06:20:37.096097Z",
     "start_time": "2019-08-02T06:20:36.782815Z"
    }
   },
   "outputs": [],
   "source": [
    "sz = 512\n",
    "sz0 = 1024\n",
    "PATH_TRAIN = 'input/dicom-images-train/'\n",
    "PATH_TEST = 'input/dicom-images-test/'\n",
    "train_out = f'input/train_{sz}.zip'\n",
    "test_out = f'input/test_{sz}.zip'\n",
    "mask_out = f'input/masks_{sz}.zip'\n",
    "train = glob(os.path.join(PATH_TRAIN, '*/*/*.dcm'))\n",
    "test = glob(os.path.join(PATH_TEST, '*/*/*.dcm'))"
   ]
  },
  {
   "cell_type": "code",
   "execution_count": 4,
   "metadata": {
    "ExecuteTime": {
     "end_time": "2019-08-02T06:20:38.237401Z",
     "start_time": "2019-08-02T06:20:38.173713Z"
    }
   },
   "outputs": [],
   "source": [
    "df = pd.read_csv('input/train-rle.csv').set_index('ImageId')\n",
    "idxs = set(df.index)\n",
    "train_names = []\n",
    "for f in train: #remove images without labels\n",
    "    name = f.split('/')[-1][:-4]\n",
    "    if name in idxs: train_names.append(f)"
   ]
  },
  {
   "cell_type": "code",
   "execution_count": 5,
   "metadata": {
    "ExecuteTime": {
     "end_time": "2019-08-02T06:20:43.394062Z",
     "start_time": "2019-08-02T06:20:43.386452Z"
    }
   },
   "outputs": [],
   "source": [
    "def convert_images(filename, arch_out, sz=sz):\n",
    "    ds = pydicom.read_file(str(filename))\n",
    "    img = ds.pixel_array\n",
    "    img = cv2.resize(img, (sz, sz))\n",
    "    img = exposure.equalize_adapthist(img) # contrast correction\n",
    "    x_tot = img.mean() #image statistics\n",
    "    x2_tot = (img**2).mean()\n",
    "    img = ((img*255)).clip(0,255).astype(np.uint8)\n",
    "    output = cv2.imencode('.png',img)[1]\n",
    "    name = filename.split('/')[-1][:-4] + '.png'\n",
    "    arch_out.writestr(name, output)\n",
    "    return x_tot, x2_tot\n",
    "\n",
    "def get_stats(stats): # get dataset statistics \n",
    "    x_tot, x2_tot = 0.0, 0.0\n",
    "    for x, x2 in stats:\n",
    "        x_tot += x\n",
    "        x2_tot += x2\n",
    "    \n",
    "    img_avr =  x_tot/len(stats)\n",
    "    img_std =  np.sqrt(x2_tot/len(stats) - img_avr**2)\n",
    "    print('mean:',img_avr, ', std:', img_std)"
   ]
  },
  {
   "cell_type": "markdown",
   "metadata": {},
   "source": [
    "# write images"
   ]
  },
  {
   "cell_type": "code",
   "execution_count": 6,
   "metadata": {
    "ExecuteTime": {
     "end_time": "2019-08-02T06:28:48.788516Z",
     "start_time": "2019-08-02T06:20:45.768269Z"
    }
   },
   "outputs": [
    {
     "data": {
      "application/vnd.jupyter.widget-view+json": {
       "model_id": "037eb56e321a498fb7841e667a201090",
       "version_major": 2,
       "version_minor": 0
      },
      "text/plain": [
       "HBox(children=(IntProgress(value=0, max=10675), HTML(value='')))"
      ]
     },
     "metadata": {},
     "output_type": "display_data"
    },
    {
     "name": "stdout",
     "output_type": "stream",
     "text": [
      "\n"
     ]
    },
    {
     "data": {
      "application/vnd.jupyter.widget-view+json": {
       "model_id": "ba3407c75a394f71826e2080a495c0cc",
       "version_major": 2,
       "version_minor": 0
      },
      "text/plain": [
       "HBox(children=(IntProgress(value=0, max=1377), HTML(value='')))"
      ]
     },
     "metadata": {},
     "output_type": "display_data"
    },
    {
     "name": "stdout",
     "output_type": "stream",
     "text": [
      "\n"
     ]
    }
   ],
   "source": [
    "\n",
    "trn_stats = []\n",
    "with zipfile.ZipFile(train_out, 'w') as arch:\n",
    "    for fname in tqdm(train_names, total=len(train_names)):\n",
    "        trn_stats.append(convert_images(fname,arch))\n",
    "\n",
    "test_stats = []        \n",
    "with zipfile.ZipFile(test_out, 'w') as arch:\n",
    "    for fname in tqdm(test, total=len(test)):\n",
    "        test_stats.append(convert_images(fname,arch))"
   ]
  },
  {
   "cell_type": "code",
   "execution_count": 7,
   "metadata": {
    "ExecuteTime": {
     "end_time": "2019-08-02T06:30:23.214277Z",
     "start_time": "2019-08-02T06:30:23.206928Z"
    }
   },
   "outputs": [
    {
     "name": "stdout",
     "output_type": "stream",
     "text": [
      "mean: 0.5292001691897469 , std: 0.25880564368364406\n",
      "mean: 0.5265718130841706 , std: 0.2589975116265946\n"
     ]
    }
   ],
   "source": [
    "get_stats(trn_stats)\n",
    "get_stats(test_stats)"
   ]
  },
  {
   "cell_type": "code",
   "execution_count": 14,
   "metadata": {
    "ExecuteTime": {
     "end_time": "2019-08-01T11:09:57.099790Z",
     "start_time": "2019-08-01T11:09:57.094418Z"
    }
   },
   "outputs": [
    {
     "name": "stdout",
     "output_type": "stream",
     "text": [
      "mean: 0.5403185386035164 , std: 0.2643158961302565\n",
      "mean: 0.5380199093045763 , std: 0.264917379950516\n"
     ]
    }
   ],
   "source": [
    "get_stats(trn_stats)\n",
    "get_stats(test_stats)"
   ]
  },
  {
   "cell_type": "markdown",
   "metadata": {},
   "source": [
    "# write mask"
   ]
  },
  {
   "cell_type": "code",
   "execution_count": 11,
   "metadata": {
    "ExecuteTime": {
     "end_time": "2019-08-02T07:18:45.912761Z",
     "start_time": "2019-08-02T07:17:58.578940Z"
    }
   },
   "outputs": [
    {
     "data": {
      "application/vnd.jupyter.widget-view+json": {
       "model_id": "758bf2eb326f4e1eafaaf8e62d040af7",
       "version_major": 2,
       "version_minor": 0
      },
      "text/plain": [
       "HBox(children=(IntProgress(value=0, max=10675), HTML(value='')))"
      ]
     },
     "metadata": {},
     "output_type": "display_data"
    },
    {
     "name": "stdout",
     "output_type": "stream",
     "text": [
      "\n",
      "mask coverage: 0.0031809534792040213 , mask count: 2379\n"
     ]
    }
   ],
   "source": [
    "mask_coverage = []\n",
    "mask_count = 0\n",
    "with zipfile.ZipFile(mask_out, 'w') as arch:\n",
    "    for idx in tqdm(idxs):\n",
    "        masks = df.loc[idx,' EncodedPixels']\n",
    "        img = np.zeros((sz0,sz0))\n",
    "        #do conversion if mask is not \" -1\"\n",
    "        if(type(masks) != str or (type(masks) == str and masks != ' -1')):\n",
    "            if(type(masks) == str): masks = [masks]\n",
    "            else: masks = masks.tolist()\n",
    "            mask_count +=1\n",
    "            for mask in masks:\n",
    "                img += rle2mask(mask, sz0, sz0).T\n",
    "        mask_coverage.append(img.mean())\n",
    "        img = cv2.resize(img, (sz, sz))\n",
    "        output = cv2.imencode('.png',img)[1]\n",
    "        name = idx + '.png'\n",
    "        arch.writestr(name, output)\n",
    "\n",
    "print('mask coverage:', np.mean(mask_coverage)/255, ', mask count:', mask_count)"
   ]
  },
  {
   "cell_type": "markdown",
   "metadata": {},
   "source": [
    "# show one example"
   ]
  },
  {
   "cell_type": "code",
   "execution_count": 10,
   "metadata": {
    "ExecuteTime": {
     "end_time": "2019-08-02T07:17:49.383503Z",
     "start_time": "2019-08-02T07:17:49.372146Z"
    }
   },
   "outputs": [
    {
     "ename": "IndexError",
     "evalue": "list index out of range",
     "output_type": "error",
     "traceback": [
      "\u001b[0;31m---------------------------------------------------------------------------\u001b[0m",
      "\u001b[0;31mIndexError\u001b[0m                                Traceback (most recent call last)",
      "\u001b[0;32m<ipython-input-10-64ca646e828d>\u001b[0m in \u001b[0;36m<module>\u001b[0;34m\u001b[0m\n\u001b[1;32m      1\u001b[0m \u001b[0midx\u001b[0m \u001b[0;34m=\u001b[0m \u001b[0;36m736\u001b[0m\u001b[0;34m\u001b[0m\u001b[0;34m\u001b[0m\u001b[0m\n\u001b[1;32m      2\u001b[0m \u001b[0;32mwith\u001b[0m \u001b[0mzipfile\u001b[0m\u001b[0;34m.\u001b[0m\u001b[0mZipFile\u001b[0m\u001b[0;34m(\u001b[0m\u001b[0mtrain_out\u001b[0m\u001b[0;34m,\u001b[0m \u001b[0;34m'r'\u001b[0m\u001b[0;34m)\u001b[0m \u001b[0;32mas\u001b[0m \u001b[0march\u001b[0m\u001b[0;34m:\u001b[0m\u001b[0;34m\u001b[0m\u001b[0;34m\u001b[0m\u001b[0m\n\u001b[0;32m----> 3\u001b[0;31m     \u001b[0mfname\u001b[0m \u001b[0;34m=\u001b[0m \u001b[0msorted\u001b[0m\u001b[0;34m(\u001b[0m\u001b[0march\u001b[0m\u001b[0;34m.\u001b[0m\u001b[0mnamelist\u001b[0m\u001b[0;34m(\u001b[0m\u001b[0;34m)\u001b[0m\u001b[0;34m)\u001b[0m\u001b[0;34m[\u001b[0m\u001b[0midx\u001b[0m\u001b[0;34m]\u001b[0m\u001b[0;34m\u001b[0m\u001b[0;34m\u001b[0m\u001b[0m\n\u001b[0m\u001b[1;32m      4\u001b[0m     \u001b[0mflags\u001b[0m \u001b[0;34m=\u001b[0m \u001b[0mcv2\u001b[0m\u001b[0;34m.\u001b[0m\u001b[0mIMREAD_GRAYSCALE\u001b[0m\u001b[0;34m\u001b[0m\u001b[0;34m\u001b[0m\u001b[0m\n\u001b[1;32m      5\u001b[0m     \u001b[0mimg\u001b[0m \u001b[0;34m=\u001b[0m \u001b[0mcv2\u001b[0m\u001b[0;34m.\u001b[0m\u001b[0mimdecode\u001b[0m\u001b[0;34m(\u001b[0m\u001b[0mnp\u001b[0m\u001b[0;34m.\u001b[0m\u001b[0mfrombuffer\u001b[0m\u001b[0;34m(\u001b[0m\u001b[0march\u001b[0m\u001b[0;34m.\u001b[0m\u001b[0mread\u001b[0m\u001b[0;34m(\u001b[0m\u001b[0mfname\u001b[0m\u001b[0;34m)\u001b[0m\u001b[0;34m,\u001b[0m \u001b[0mnp\u001b[0m\u001b[0;34m.\u001b[0m\u001b[0muint8\u001b[0m\u001b[0;34m)\u001b[0m\u001b[0;34m,\u001b[0m \u001b[0mflags\u001b[0m\u001b[0;34m)\u001b[0m\u001b[0;34m\u001b[0m\u001b[0;34m\u001b[0m\u001b[0m\n",
      "\u001b[0;31mIndexError\u001b[0m: list index out of range"
     ]
    }
   ],
   "source": [
    "idx = 736\n",
    "with zipfile.ZipFile(train_out, 'r') as arch:\n",
    "    fname = sorted(arch.namelist())[idx]\n",
    "    flags = cv2.IMREAD_GRAYSCALE\n",
    "    img = cv2.imdecode(np.frombuffer(arch.read(fname), np.uint8), flags)\n",
    "    \n",
    "with zipfile.ZipFile(mask_out, 'r') as arch:\n",
    "    fname = sorted(arch.namelist())[idx]\n",
    "    flags = cv2.IMREAD_GRAYSCALE\n",
    "    mask = cv2.imdecode(np.frombuffer(arch.read(fname), np.uint8), flags)\n",
    "    \n",
    "plt.figure()\n",
    "plt.imshow(Image.fromarray(img))\n",
    "plt.imshow(Image.fromarray(mask), alpha=0.2)\n",
    "plt.show()"
   ]
  },
  {
   "cell_type": "code",
   "execution_count": null,
   "metadata": {},
   "outputs": [],
   "source": []
  }
 ],
 "metadata": {
  "kernelspec": {
   "display_name": "Python 3",
   "language": "python",
   "name": "python3"
  },
  "language_info": {
   "codemirror_mode": {
    "name": "ipython",
    "version": 3
   },
   "file_extension": ".py",
   "mimetype": "text/x-python",
   "name": "python",
   "nbconvert_exporter": "python",
   "pygments_lexer": "ipython3",
   "version": "3.6.8"
  },
  "toc": {
   "base_numbering": 1,
   "nav_menu": {},
   "number_sections": true,
   "sideBar": true,
   "skip_h1_title": false,
   "title_cell": "Table of Contents",
   "title_sidebar": "Contents",
   "toc_cell": false,
   "toc_position": {},
   "toc_section_display": true,
   "toc_window_display": false
  },
  "varInspector": {
   "cols": {
    "lenName": 16,
    "lenType": 16,
    "lenVar": 40
   },
   "kernels_config": {
    "python": {
     "delete_cmd_postfix": "",
     "delete_cmd_prefix": "del ",
     "library": "var_list.py",
     "varRefreshCmd": "print(var_dic_list())"
    },
    "r": {
     "delete_cmd_postfix": ") ",
     "delete_cmd_prefix": "rm(",
     "library": "var_list.r",
     "varRefreshCmd": "cat(var_dic_list()) "
    }
   },
   "types_to_exclude": [
    "module",
    "function",
    "builtin_function_or_method",
    "instance",
    "_Feature"
   ],
   "window_display": false
  }
 },
 "nbformat": 4,
 "nbformat_minor": 2
}
