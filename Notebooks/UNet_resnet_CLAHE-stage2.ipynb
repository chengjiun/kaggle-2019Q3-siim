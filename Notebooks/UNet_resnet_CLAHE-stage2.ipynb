{
 "cells": [
  {
   "cell_type": "markdown",
   "metadata": {},
   "source": [
    "This Kernel uses UNet architecture with ResNet34 encoder, I've used [segmentation_models.pytorch](https://github.com/qubvel/segmentation_models.pytorch) library which has many inbuilt segmentation architectures. This kernel is inspired by [Yury](https://www.kaggle.com/deyury)'s discussion thread [here](https://www.kaggle.com/c/siim-acr-pneumothorax-segmentation/discussion/99440#591985). I've used snippets from multiple other public kernels I've given due credits at the end of this notebook.\n",
    "\n",
    "What's down below?\n",
    "\n",
    "* UNet with imagenet pretrained ResNet34 architecture\n",
    "* Training on 512x512 sized images/masks with Standard Augmentations\n",
    "* MixedLoss (weighted sum of Focal loss and dice loss)\n",
    "* Gradient Accumulution"
   ]
  },
  {
   "cell_type": "code",
   "execution_count": null,
   "metadata": {},
   "outputs": [],
   "source": []
  },
  {
   "cell_type": "code",
   "execution_count": 1,
   "metadata": {
    "_cell_guid": "b1076dfc-b9ad-4769-8c92-a6c4dae69d19",
    "_uuid": "8f2839f25d086af736a60e9eeb907d3b93b6e0e5"
   },
   "outputs": [],
   "source": [
    "import os\n",
    "import cv2\n",
    "import pdb\n",
    "import time\n",
    "import warnings\n",
    "import random\n",
    "import numpy as np\n",
    "import pandas as pd\n",
    "from tqdm import tqdm_notebook as tqdm\n",
    "from torch.optim.lr_scheduler import ReduceLROnPlateau\n",
    "from sklearn.model_selection import StratifiedKFold\n",
    "import torch\n",
    "import torch.nn as nn\n",
    "from torch.nn import functional as F\n",
    "import torch.optim as optim\n",
    "import torch.backends.cudnn as cudnn\n",
    "from torch.utils.data import DataLoader, Dataset, sampler\n",
    "from matplotlib import pyplot as plt\n",
    "from albumentations import (HorizontalFlip, ShiftScaleRotate, Normalize, Resize, Compose, GaussNoise)\n",
    "from albumentations.torch import ToTensor\n",
    "warnings.filterwarnings(\"ignore\")\n",
    "from pathlib import Path"
   ]
  },
  {
   "cell_type": "code",
   "execution_count": 2,
   "metadata": {},
   "outputs": [],
   "source": [
    "import segmentation_models_pytorch as smp"
   ]
  },
  {
   "cell_type": "markdown",
   "metadata": {},
   "source": [
    "## Utility functions"
   ]
  },
  {
   "cell_type": "code",
   "execution_count": 3,
   "metadata": {},
   "outputs": [],
   "source": [
    "def run_length_decode(rle, height=1024, width=1024, fill_value=1):\n",
    "    component = np.zeros((height, width), np.float32)\n",
    "    component = component.reshape(-1)\n",
    "    rle = np.array([int(s) for s in rle.strip().split(' ')])\n",
    "    rle = rle.reshape(-1, 2)\n",
    "    start = 0\n",
    "    for index, length in rle:\n",
    "        start = start+index\n",
    "        end = start+length\n",
    "        component[start: end] = fill_value\n",
    "        start = end\n",
    "    component = component.reshape(width, height).T\n",
    "    return component\n",
    "\n",
    "def run_length_encode(component):\n",
    "    component = component.T.flatten()\n",
    "    start = np.where(component[1:] > component[:-1])[0]+1\n",
    "    end = np.where(component[:-1] > component[1:])[0]+1\n",
    "    length = end-start\n",
    "    rle = []\n",
    "    for i in range(len(length)):\n",
    "        if i == 0:\n",
    "            rle.extend([start[0], length[0]])\n",
    "        else:\n",
    "            rle.extend([start[i]-end[i-1], length[i]])\n",
    "    rle = ' '.join([str(r) for r in rle])\n",
    "    return rle"
   ]
  },
  {
   "cell_type": "code",
   "execution_count": 4,
   "metadata": {},
   "outputs": [
    {
     "name": "stdout",
     "output_type": "stream",
     "text": [
      "Let's use 4 GPUs!\n"
     ]
    }
   ],
   "source": [
    "if torch.cuda.device_count() > 1:\n",
    "  print(\"Let's use\", torch.cuda.device_count(), \"GPUs!\")\n",
    "  # dim = 0 [30, xxx] -> [10, ...], [10, ...], [10, ...] on 3 GPUs"
   ]
  },
  {
   "cell_type": "markdown",
   "metadata": {},
   "source": [
    "## Dataloader"
   ]
  },
  {
   "cell_type": "code",
   "execution_count": 5,
   "metadata": {},
   "outputs": [],
   "source": [
    "class SIIMDataset(Dataset):\n",
    "    def __init__(self, df, data_folder, size, mean, std, phase):\n",
    "        self.df = df\n",
    "        self.root = data_folder\n",
    "        self.size = size\n",
    "        self.mean = mean\n",
    "        self.std = std\n",
    "        self.phase = phase\n",
    "        self.transforms = get_transforms(phase, size, mean, std)\n",
    "        self.gb = self.df.groupby('ImageId')\n",
    "        self.fnames = list(self.gb.groups.keys())\n",
    "\n",
    "    def __getitem__(self, idx):\n",
    "        image_id = self.fnames[idx]\n",
    "        df = self.gb.get_group(image_id)\n",
    "        annotations = df[' EncodedPixels'].tolist()\n",
    "        image_path = os.path.join(self.root, image_id + \".png\")\n",
    "        image = cv2.imread(image_path)\n",
    "        ori_size = image.shape[0]\n",
    "        mask = np.zeros([ori_size, ori_size])\n",
    "        if annotations[0] != ' -1':\n",
    "            for rle in annotations:\n",
    "                mask += run_length_decode(rle,height=ori_size, width=ori_size)\n",
    "        mask = (mask >= 1).astype('float32') # for overlap cases\n",
    "        augmented = self.transforms(image=image, mask=mask)\n",
    "        image = augmented['image']\n",
    "        mask = augmented['mask']\n",
    "        return image, mask\n",
    "\n",
    "    def __len__(self):\n",
    "        return len(self.fnames)\n",
    "\n",
    "mean = (0.485, 0.456, 0.406),\n",
    "std = (0.229, 0.224, 0.225),    \n",
    "class SIIMDataset2(Dataset):\n",
    "    def __init__(self, df, data_folder, size, mean, std, phase):\n",
    "        self.df = df\n",
    "        self.root = data_folder\n",
    "        self.size = size\n",
    "        self.mean = mean\n",
    "        self.std = std\n",
    "        self.phase = phase\n",
    "        self.transforms = get_transforms(phase, size, mean, std)\n",
    "\n",
    "    def __getitem__(self, idx):\n",
    "        row = self.df.iloc[idx] \n",
    "        image_id = row['ImageId']\n",
    "        annotations = [row['EncodedPixels']]\n",
    "        image_path = str(row['path'])\n",
    "        \n",
    "        try:\n",
    "            image = cv2.imread(image_path)\n",
    "        except:\n",
    "            raise ValueError(f'file not found: {image_path}')\n",
    "        ori_size = image.shape[0]\n",
    "        mask = np.zeros([ori_size, ori_size])\n",
    "        if annotations[0].strip() != '-1':\n",
    "            for rle in annotations:\n",
    "                mask += run_length_decode(rle,height=ori_size, width=ori_size)\n",
    "        mask = (mask >= 1).astype('float32') # for overlap cases\n",
    "        augmented = self.transforms(image=image, mask=mask)\n",
    "        image = augmented['image']\n",
    "        mask = augmented['mask']\n",
    "        return image, mask\n",
    "\n",
    "    def __len__(self):\n",
    "        return len(self.df)\n",
    "\n",
    "\n",
    "from albumentations import (RandomGamma, MotionBlur, RandomBrightnessContrast, \n",
    "                            GridDistortion, CLAHE, OneOf, Blur)\n",
    "\n",
    "def get_transforms(phase, size, mean, std):\n",
    "    list_transforms = []\n",
    "    if phase == \"train\":\n",
    "        list_transforms.extend(\n",
    "            [\n",
    "                # HorizontalFlip(),\n",
    "                ShiftScaleRotate(\n",
    "                    shift_limit=0,  # no resizing\n",
    "                    scale_limit=0.1,\n",
    "                    rotate_limit=5, # rotate\n",
    "                    p=0.5,\n",
    "                    border_mode=cv2.BORDER_CONSTANT\n",
    "                ),\n",
    "                RandomBrightnessContrast(brightness_limit=0.1, contrast_limit=0.1, p=0.5),\n",
    "                # RandomGamma(gamma_limit=(80, 120),p=0.2),\n",
    "                # Blur(blur_limit=5, p=0.2),\n",
    "                # ISONoise(color_shift=(0.01,0.01), intensity=(0.1,0.1), p=0.2),\n",
    "            ]\n",
    "        )\n",
    "    list_transforms.extend(\n",
    "        [\n",
    "            Resize(size, size),\n",
    "            # CLAHE(clip_limit=3.0, tile_grid_size=(8, 8), p=1.0),\n",
    "            Normalize(mean=mean, std=std, p=1),\n",
    "            ToTensor(),\n",
    "        ]\n",
    "    )\n",
    "    list_trfms = Compose(list_transforms)\n",
    "    return list_trfms\n",
    "\n",
    "def provider(\n",
    "    fold,\n",
    "    total_folds,\n",
    "    data_folder,\n",
    "    df_path,\n",
    "    phase,\n",
    "    size,\n",
    "    mean=None,\n",
    "    std=None,\n",
    "    batch_size=8,\n",
    "    num_workers=4,\n",
    "    sample=None,\n",
    "):\n",
    "    df = pd.read_csv(df_path)\n",
    "    df = df.drop_duplicates('ImageId')\n",
    "    df_with_mask = df[df[\" EncodedPixels\"] != \" -1\"]\n",
    "    df_with_mask['has_mask'] = 1\n",
    "    df_without_mask = df[df[\" EncodedPixels\"] == \" -1\"]\n",
    "    df_without_mask['has_mask'] = 0\n",
    "    df_without_mask_sampled = df_without_mask.sample(len(df_with_mask.drop_duplicates('ImageId')))\n",
    "    df = pd.concat([df_with_mask, df_without_mask_sampled])\n",
    "    #NOTE: equal number of positive and negative cases are chosen.\n",
    "    \n",
    "    kfold = StratifiedKFold(total_folds, shuffle=True, random_state=69)\n",
    "    train_idx, val_idx = list(kfold.split(\n",
    "        df[\"ImageId\"], df[\"has_mask\"]))[fold]\n",
    "    train_df, val_df = df.iloc[train_idx], df.iloc[val_idx]\n",
    "    df = train_df if phase == \"train\" else val_df\n",
    "    # NOTE: total_folds=5 -> train/val : 80%/20%\n",
    "    \n",
    "    if sample is not None:\n",
    "        df = df.head(sample)\n",
    "    image_dataset = SIIMDataset(df, data_folder, size, mean, std, phase)\n",
    "\n",
    "    dataloader = DataLoader(\n",
    "        image_dataset,\n",
    "        batch_size=batch_size,\n",
    "        num_workers=num_workers,\n",
    "        pin_memory=True,\n",
    "        shuffle=True,\n",
    "    )\n",
    "    return dataloader\n",
    "\n",
    "def provider2(\n",
    "    fold,\n",
    "    total_folds,\n",
    "    df_path,\n",
    "    phase,\n",
    "    size,\n",
    "    lookup_dict,\n",
    "    mean=None,\n",
    "    std=None,\n",
    "    batch_size=8,\n",
    "    num_workers=4,\n",
    "    seed=42,\n",
    "    down_sample = False,\n",
    "    sample=None\n",
    "):\n",
    "    print('phase: ', phase)\n",
    "    df = prepare_df(df_path, lookup_dict, down_sample, seed)    \n",
    "    kfold = StratifiedKFold(total_folds, shuffle=True, random_state=seed)\n",
    "    train_idx, val_idx = list(kfold.split(\n",
    "        df[\"ImageId\"], df[\"has_mask\"]))[fold]\n",
    "    train_df, val_df = df.iloc[train_idx], df.iloc[val_idx]\n",
    "    df = train_df if phase == \"train\" else val_df\n",
    "    # NOTE: total_folds=5 -> train/val : 80%/20%\n",
    "    if sample is not None:\n",
    "        df = df.head(sample)\n",
    "    print(f'*****  phase {phase} data set rows: {len(df)}')\n",
    "    if ((not down_sample) and (phase == 'train')):\n",
    "        df_without_mask = df[df['has_mask'] == 0]\n",
    "        df_with_mask = df[df['has_mask'] == 1]\n",
    "        df_with_mask_sampled = df_with_mask.loc[\n",
    "            resample(df_with_mask.index, n_samples=len(df_without_mask), replace=True, random_state=seed)]\n",
    "        df = pd.concat([df_with_mask_sampled, df_without_mask]).sample(frac=1.0, random_state=seed)\n",
    "        print(f'train original rows: {len(df_with_mask) + len(df_without_mask)} to rows: {len(df)}')\n",
    "        \n",
    "    image_dataset = SIIMDataset2(df, data_folder, size, mean, std, phase)\n",
    "\n",
    "    dataloader = DataLoader(\n",
    "        image_dataset,\n",
    "        batch_size=batch_size,\n",
    "        num_workers=num_workers,\n",
    "        pin_memory=True,\n",
    "        shuffle=True,\n",
    "    )\n",
    "    return dataloader\n",
    "\n",
    "from sklearn.utils import resample\n",
    "\n",
    "def find_files(data_folder, look_phrase = '**/*.png'):\n",
    "    allfiles = list(Path(data_folder).glob(look_phrase))\n",
    "    lookup_dict = {}\n",
    "    for x in allfiles:\n",
    "        indx = str(x).split('/')[-1].split('.png')[0]\n",
    "        lookup_dict[indx] = x\n",
    "    return lookup_dict\n",
    "\n",
    "def prepare_df(df_path, lookup_dict, down_sample = True, seed=42):\n",
    "    df = pd.read_csv(df_path)\n",
    "    print(f'original rows: {len(df)}')\n",
    "    # df = df.drop_duplicates('ImageId')\n",
    "    # print(f'rows after drop_duplicate: {len(df)}')\n",
    "\n",
    "    df['path'] = [lookup_dict[x] for x in df['ImageId']]\n",
    "    df_with_mask = df[df[\"EncodedPixels\"] != \"-1\"]\n",
    "    df_with_mask['has_mask'] = 1\n",
    "    df_without_mask = df[df[\"EncodedPixels\"] == \"-1\"]\n",
    "    df_without_mask['has_mask'] = 0\n",
    "    print(f'rows with mask: {len(df_with_mask)}, without mask: {len(df_without_mask)}')\n",
    "    if not down_sample:\n",
    "        # df_with_mask_sampled = df_with_mask.loc[\n",
    "        #     resample(df_with_mask.index, n_samples=len(df_without_mask), replace=True, random_state=seed)]\n",
    "        df = pd.concat([df_with_mask, df_without_mask])\n",
    "    else:\n",
    "        df_without_mask_sampled = df_without_mask.loc[\n",
    "            resample(df_without_mask.index, n_samples=len(df_with_mask.drop_duplicates()), replace=True, random_state=seed)]\n",
    "        df = pd.concat([df_with_mask, df_without_mask_sampled])\n",
    "    print(f'sampled data to rows: {len(df)}')\n",
    "    #NOTE: equal number of positive and negative cases are chosen.\n",
    "    return df.sample(frac=1.0, random_state=seed)"
   ]
  },
  {
   "cell_type": "code",
   "execution_count": 6,
   "metadata": {},
   "outputs": [
    {
     "name": "stdout",
     "output_type": "stream",
     "text": [
      "/home/chengjiun/Workspace/kaggle-2019Q3-siim\n"
     ]
    }
   ],
   "source": [
    "%cd ~/Workspace/kaggle-2019Q3-siim/"
   ]
  },
  {
   "cell_type": "code",
   "execution_count": 7,
   "metadata": {},
   "outputs": [],
   "source": [
    "sample_submission_path = './input/stage_2_sample_submission.csv'\n",
    "train_rle_path = './input/stage_2_train.csv'\n",
    "data_folder = \"./input/stage1_png/\"\n",
    "test_data_folder = \"./input/stage2_png/\""
   ]
  },
  {
   "cell_type": "markdown",
   "metadata": {},
   "source": [
    "### Dataloader sanity check"
   ]
  },
  {
   "cell_type": "code",
   "execution_count": 8,
   "metadata": {},
   "outputs": [],
   "source": [
    "lookup_dict = find_files(data_folder, look_phrase = '**/*.png')"
   ]
  },
  {
   "cell_type": "code",
   "execution_count": null,
   "metadata": {},
   "outputs": [],
   "source": []
  },
  {
   "cell_type": "code",
   "execution_count": 9,
   "metadata": {},
   "outputs": [
    {
     "name": "stdout",
     "output_type": "stream",
     "text": [
      "phase:  train\n",
      "original rows: 12954\n",
      "rows with mask: 3576, without mask: 9378\n",
      "sampled data to rows: 12954\n",
      "*****  phase train data set rows: 10362\n",
      "train original rows: 10362 to rows: 15004\n"
     ]
    }
   ],
   "source": [
    "dataloader = provider2(\n",
    "    fold=0,\n",
    "    total_folds=5,\n",
    "    df_path=train_rle_path,\n",
    "    phase=\"train\",\n",
    "    size=512,\n",
    "    lookup_dict=lookup_dict,\n",
    "    mean = (0.485, 0.456, 0.406),\n",
    "    std = (0.229, 0.224, 0.225),\n",
    "    batch_size=4,\n",
    "    num_workers=1,\n",
    "    seed=42,\n",
    "    down_sample = False\n",
    ")"
   ]
  },
  {
   "cell_type": "code",
   "execution_count": 46,
   "metadata": {},
   "outputs": [],
   "source": [
    "batch = next(iter(dataloader)) # get a batch from the dataloader\n",
    "images, masks = batch\n"
   ]
  },
  {
   "cell_type": "code",
   "execution_count": 47,
   "metadata": {},
   "outputs": [
    {
     "data": {
      "image/png": "[encoded data removed]",
      "text/plain": [
       "<Figure size 432x288 with 1 Axes>"
      ]
     },
     "metadata": {
      "needs_background": "light"
     },
     "output_type": "display_data"
    }
   ],
   "source": [
    "# plot some random images in the `batch`\n",
    "idx = random.choice(range(4))\n",
    "plt.imshow(images[idx][0], cmap='bone')\n",
    "plt.imshow(masks[idx][0], alpha=0.5, cmap='Reds')\n",
    "plt.show()\n",
    "if len(np.unique(masks[idx][0])) == 1: # only zeros\n",
    "    print('Chosen image has no ground truth mask, rerun the cell')"
   ]
  },
  {
   "cell_type": "markdown",
   "metadata": {},
   "source": [
    "## Losses\n",
    "\n",
    "This kernel uses a weighted sum of Focal Loss and Dice Loss, let's call it MixedLoss"
   ]
  },
  {
   "cell_type": "code",
   "execution_count": 9,
   "metadata": {},
   "outputs": [],
   "source": [
    "def dice_loss(input, target):\n",
    "    input = torch.sigmoid(input)\n",
    "    smooth = 1.0\n",
    "    iflat = input.view(-1)\n",
    "    tflat = target.view(-1)\n",
    "    intersection = (iflat * tflat).sum()\n",
    "    return ((2.0 * intersection + smooth) / (iflat.sum() + tflat.sum() + smooth))\n",
    "\n",
    "\n",
    "class FocalLoss(nn.Module):\n",
    "    def __init__(self, gamma):\n",
    "        super().__init__()\n",
    "        self.gamma = gamma\n",
    "\n",
    "    def forward(self, input, target):\n",
    "        if not (target.size() == input.size()):\n",
    "            raise ValueError(\"Target size ({}) must be the same as input size ({})\"\n",
    "                             .format(target.size(), input.size()))\n",
    "        max_val = (-input).clamp(min=0)\n",
    "        loss = input - input * target + max_val + \\\n",
    "            ((-max_val).exp() + (-input - max_val).exp()).log()\n",
    "        invprobs = F.logsigmoid(-input * (target * 2.0 - 1.0))\n",
    "        loss = (invprobs * self.gamma).exp() * loss\n",
    "        return loss.mean()\n",
    "\n",
    "\n",
    "class MixedLoss(nn.Module):\n",
    "    def __init__(self, alpha, gamma):\n",
    "        super().__init__()\n",
    "        self.alpha = alpha\n",
    "        self.focal = FocalLoss(gamma)\n",
    "\n",
    "    def forward(self, input, target):\n",
    "        loss = self.alpha*self.focal(input, target) - torch.log(dice_loss(input, target))\n",
    "        return loss.mean()"
   ]
  },
  {
   "cell_type": "markdown",
   "metadata": {},
   "source": [
    "## Some more utility functions\n",
    "\n",
    "Here are some utility functions for calculating IoU and Dice scores"
   ]
  },
  {
   "cell_type": "code",
   "execution_count": 10,
   "metadata": {},
   "outputs": [],
   "source": [
    "def predict_func(X, threshold):\n",
    "    X_p = np.copy(X)\n",
    "    preds = (X_p > threshold).astype('uint8')\n",
    "    return preds\n",
    "\n",
    "def metric(probability, truth, threshold=0.5, reduction='none'):\n",
    "    '''Calculates dice of positive and negative images seperately'''\n",
    "    '''probability and truth must be torch tensors'''\n",
    "    batch_size = len(truth)\n",
    "    with torch.no_grad():\n",
    "        probability = probability.view(batch_size, -1)\n",
    "        truth = truth.view(batch_size, -1)\n",
    "        assert(probability.shape == truth.shape)\n",
    "\n",
    "        p = (probability > threshold).float()\n",
    "        t = (truth > 0.5).float()\n",
    "\n",
    "        t_sum = t.sum(-1)\n",
    "        p_sum = p.sum(-1)\n",
    "        neg_index = torch.nonzero(t_sum == 0)\n",
    "        pos_index = torch.nonzero(t_sum >= 1)\n",
    "\n",
    "        dice_neg = (p_sum == 0).float()\n",
    "        dice_pos = 2 * (p*t).sum(-1)/((p+t).sum(-1))\n",
    "\n",
    "        dice_neg = dice_neg[neg_index]\n",
    "        dice_pos = dice_pos[pos_index]\n",
    "        dice = torch.cat([dice_pos, dice_neg])\n",
    "\n",
    "        dice_neg = np.nan_to_num(dice_neg.mean().item(), 0)\n",
    "        dice_pos = np.nan_to_num(dice_pos.mean().item(), 0)\n",
    "        dice = dice.mean().item()\n",
    "\n",
    "        num_neg = len(neg_index)\n",
    "        num_pos = len(pos_index)\n",
    "\n",
    "    return dice, dice_neg, dice_pos, num_neg, num_pos\n",
    "\n",
    "class Meter:\n",
    "    '''A meter to keep track of iou and dice scores throughout an epoch'''\n",
    "    def __init__(self, phase, epoch):\n",
    "        self.base_threshold = 0.5 # <<<<<<<<<<< here's the threshold\n",
    "        self.base_dice_scores = []\n",
    "        self.dice_neg_scores = []\n",
    "        self.dice_pos_scores = []\n",
    "        self.iou_scores = []\n",
    "\n",
    "    def update(self, targets, outputs):\n",
    "        probs = torch.sigmoid(outputs)\n",
    "        dice, dice_neg, dice_pos, _, _ = metric(probs, targets, self.base_threshold)\n",
    "        self.base_dice_scores.append(dice)\n",
    "        self.dice_pos_scores.append(dice_pos)\n",
    "        self.dice_neg_scores.append(dice_neg)\n",
    "        preds = predict_func(probs, self.base_threshold)\n",
    "        iou = compute_iou_batch(preds, targets, classes=[1])\n",
    "        self.iou_scores.append(iou)\n",
    "\n",
    "    def get_metrics(self):\n",
    "        dice = np.mean(self.base_dice_scores)\n",
    "        dice_neg = np.mean(self.dice_neg_scores)\n",
    "        dice_pos = np.mean(self.dice_pos_scores)\n",
    "        dices = [dice, dice_neg, dice_pos]\n",
    "        iou = np.nanmean(self.iou_scores)\n",
    "        return dices, iou\n",
    "\n",
    "def epoch_log(phase, epoch, epoch_loss, meter, start):\n",
    "    '''logging the metrics at the end of an epoch'''\n",
    "    dices, iou = meter.get_metrics()\n",
    "    dice, dice_neg, dice_pos = dices\n",
    "    print(\"Loss: %0.4f | dice: %0.4f | dice_neg: %0.4f | dice_pos: %0.4f | IoU: %0.4f\" % (epoch_loss, dice, dice_neg, dice_pos, iou))\n",
    "    return dice, iou\n",
    "\n",
    "def compute_ious(pred, label, classes, ignore_index=255, only_present=True):\n",
    "    '''computes iou for one ground truth mask and predicted mask'''\n",
    "    pred[label == ignore_index] = 0\n",
    "    ious = []\n",
    "    for c in classes:\n",
    "        label_c = label == c\n",
    "        if only_present and np.sum(label_c) == 0:\n",
    "            ious.append(np.nan)\n",
    "            continue\n",
    "        pred_c = pred == c\n",
    "        intersection = np.logical_and(pred_c, label_c).sum()\n",
    "        union = np.logical_or(pred_c, label_c).sum()\n",
    "        if union != 0:\n",
    "            ious.append(intersection / union)\n",
    "    return ious if ious else [1]\n",
    "\n",
    "\n",
    "def compute_iou_batch(outputs, labels, classes=None):\n",
    "    '''computes mean iou for a batch of ground truth masks and predicted masks'''\n",
    "    ious = []\n",
    "    preds = np.copy(outputs) # copy is imp\n",
    "    labels = np.array(labels) # tensor to np\n",
    "    for pred, label in zip(preds, labels):\n",
    "        ious.append(np.nanmean(compute_ious(pred, label, classes)))\n",
    "    iou = np.nanmean(ious)\n",
    "    return iou\n"
   ]
  },
  {
   "cell_type": "markdown",
   "metadata": {},
   "source": [
    "## UNet with ResNet34 model\n",
    "Let's take a look at the model"
   ]
  },
  {
   "cell_type": "code",
   "execution_count": 11,
   "metadata": {},
   "outputs": [
    {
     "name": "stdout",
     "output_type": "stream",
     "text": [
      "Let's use 4 GPUs!\n"
     ]
    }
   ],
   "source": [
    "model = smp.Unet(\"resnet34\", encoder_weights=\"imagenet\", activation=None)\n",
    "if torch.cuda.device_count() > 1:\n",
    "    print(\"Let's use\", torch.cuda.device_count(), \"GPUs!\")\n",
    "    # dim = 0 [30, xxx] -> [10, ...], [10, ...], [10, ...] on 3 GPUs\n",
    "    model = nn.DataParallel(model)"
   ]
  },
  {
   "cell_type": "code",
   "execution_count": 12,
   "metadata": {},
   "outputs": [],
   "source": [
    "from ranger import Ranger\n",
    "from fastai.core import *\n",
    "opt_ranger = partial(Ranger, k=8)\n"
   ]
  },
  {
   "cell_type": "code",
   "execution_count": 32,
   "metadata": {},
   "outputs": [
    {
     "data": {
      "text/plain": [
       "DataParallel(\n",
       "  (module): Unet(\n",
       "    (encoder): ResNetEncoder(\n",
       "      (conv1): Conv2d(3, 64, kernel_size=(7, 7), stride=(2, 2), padding=(3, 3), bias=False)\n",
       "      (bn1): BatchNorm2d(64, eps=1e-05, momentum=0.1, affine=True, track_running_stats=True)\n",
       "      (relu): ReLU(inplace=True)\n",
       "      (maxpool): MaxPool2d(kernel_size=3, stride=2, padding=1, dilation=1, ceil_mode=False)\n",
       "      (layer1): Sequential(\n",
       "        (0): BasicBlock(\n",
       "          (conv1): Conv2d(64, 64, kernel_size=(3, 3), stride=(1, 1), padding=(1, 1), bias=False)\n",
       "          (bn1): BatchNorm2d(64, eps=1e-05, momentum=0.1, affine=True, track_running_stats=True)\n",
       "          (relu): ReLU(inplace=True)\n",
       "          (conv2): Conv2d(64, 64, kernel_size=(3, 3), stride=(1, 1), padding=(1, 1), bias=False)\n",
       "          (bn2): BatchNorm2d(64, eps=1e-05, momentum=0.1, affine=True, track_running_stats=True)\n",
       "        )\n",
       "        (1): BasicBlock(\n",
       "          (conv1): Conv2d(64, 64, kernel_size=(3, 3), stride=(1, 1), padding=(1, 1), bias=False)\n",
       "          (bn1): BatchNorm2d(64, eps=1e-05, momentum=0.1, affine=True, track_running_stats=True)\n",
       "          (relu): ReLU(inplace=True)\n",
       "          (conv2): Conv2d(64, 64, kernel_size=(3, 3), stride=(1, 1), padding=(1, 1), bias=False)\n",
       "          (bn2): BatchNorm2d(64, eps=1e-05, momentum=0.1, affine=True, track_running_stats=True)\n",
       "        )\n",
       "        (2): BasicBlock(\n",
       "          (conv1): Conv2d(64, 64, kernel_size=(3, 3), stride=(1, 1), padding=(1, 1), bias=False)\n",
       "          (bn1): BatchNorm2d(64, eps=1e-05, momentum=0.1, affine=True, track_running_stats=True)\n",
       "          (relu): ReLU(inplace=True)\n",
       "          (conv2): Conv2d(64, 64, kernel_size=(3, 3), stride=(1, 1), padding=(1, 1), bias=False)\n",
       "          (bn2): BatchNorm2d(64, eps=1e-05, momentum=0.1, affine=True, track_running_stats=True)\n",
       "        )\n",
       "      )\n",
       "      (layer2): Sequential(\n",
       "        (0): BasicBlock(\n",
       "          (conv1): Conv2d(64, 128, kernel_size=(3, 3), stride=(2, 2), padding=(1, 1), bias=False)\n",
       "          (bn1): BatchNorm2d(128, eps=1e-05, momentum=0.1, affine=True, track_running_stats=True)\n",
       "          (relu): ReLU(inplace=True)\n",
       "          (conv2): Conv2d(128, 128, kernel_size=(3, 3), stride=(1, 1), padding=(1, 1), bias=False)\n",
       "          (bn2): BatchNorm2d(128, eps=1e-05, momentum=0.1, affine=True, track_running_stats=True)\n",
       "          (downsample): Sequential(\n",
       "            (0): Conv2d(64, 128, kernel_size=(1, 1), stride=(2, 2), bias=False)\n",
       "            (1): BatchNorm2d(128, eps=1e-05, momentum=0.1, affine=True, track_running_stats=True)\n",
       "          )\n",
       "        )\n",
       "        (1): BasicBlock(\n",
       "          (conv1): Conv2d(128, 128, kernel_size=(3, 3), stride=(1, 1), padding=(1, 1), bias=False)\n",
       "          (bn1): BatchNorm2d(128, eps=1e-05, momentum=0.1, affine=True, track_running_stats=True)\n",
       "          (relu): ReLU(inplace=True)\n",
       "          (conv2): Conv2d(128, 128, kernel_size=(3, 3), stride=(1, 1), padding=(1, 1), bias=False)\n",
       "          (bn2): BatchNorm2d(128, eps=1e-05, momentum=0.1, affine=True, track_running_stats=True)\n",
       "        )\n",
       "        (2): BasicBlock(\n",
       "          (conv1): Conv2d(128, 128, kernel_size=(3, 3), stride=(1, 1), padding=(1, 1), bias=False)\n",
       "          (bn1): BatchNorm2d(128, eps=1e-05, momentum=0.1, affine=True, track_running_stats=True)\n",
       "          (relu): ReLU(inplace=True)\n",
       "          (conv2): Conv2d(128, 128, kernel_size=(3, 3), stride=(1, 1), padding=(1, 1), bias=False)\n",
       "          (bn2): BatchNorm2d(128, eps=1e-05, momentum=0.1, affine=True, track_running_stats=True)\n",
       "        )\n",
       "        (3): BasicBlock(\n",
       "          (conv1): Conv2d(128, 128, kernel_size=(3, 3), stride=(1, 1), padding=(1, 1), bias=False)\n",
       "          (bn1): BatchNorm2d(128, eps=1e-05, momentum=0.1, affine=True, track_running_stats=True)\n",
       "          (relu): ReLU(inplace=True)\n",
       "          (conv2): Conv2d(128, 128, kernel_size=(3, 3), stride=(1, 1), padding=(1, 1), bias=False)\n",
       "          (bn2): BatchNorm2d(128, eps=1e-05, momentum=0.1, affine=True, track_running_stats=True)\n",
       "        )\n",
       "      )\n",
       "      (layer3): Sequential(\n",
       "        (0): BasicBlock(\n",
       "          (conv1): Conv2d(128, 256, kernel_size=(3, 3), stride=(2, 2), padding=(1, 1), bias=False)\n",
       "          (bn1): BatchNorm2d(256, eps=1e-05, momentum=0.1, affine=True, track_running_stats=True)\n",
       "          (relu): ReLU(inplace=True)\n",
       "          (conv2): Conv2d(256, 256, kernel_size=(3, 3), stride=(1, 1), padding=(1, 1), bias=False)\n",
       "          (bn2): BatchNorm2d(256, eps=1e-05, momentum=0.1, affine=True, track_running_stats=True)\n",
       "          (downsample): Sequential(\n",
       "            (0): Conv2d(128, 256, kernel_size=(1, 1), stride=(2, 2), bias=False)\n",
       "            (1): BatchNorm2d(256, eps=1e-05, momentum=0.1, affine=True, track_running_stats=True)\n",
       "          )\n",
       "        )\n",
       "        (1): BasicBlock(\n",
       "          (conv1): Conv2d(256, 256, kernel_size=(3, 3), stride=(1, 1), padding=(1, 1), bias=False)\n",
       "          (bn1): BatchNorm2d(256, eps=1e-05, momentum=0.1, affine=True, track_running_stats=True)\n",
       "          (relu): ReLU(inplace=True)\n",
       "          (conv2): Conv2d(256, 256, kernel_size=(3, 3), stride=(1, 1), padding=(1, 1), bias=False)\n",
       "          (bn2): BatchNorm2d(256, eps=1e-05, momentum=0.1, affine=True, track_running_stats=True)\n",
       "        )\n",
       "        (2): BasicBlock(\n",
       "          (conv1): Conv2d(256, 256, kernel_size=(3, 3), stride=(1, 1), padding=(1, 1), bias=False)\n",
       "          (bn1): BatchNorm2d(256, eps=1e-05, momentum=0.1, affine=True, track_running_stats=True)\n",
       "          (relu): ReLU(inplace=True)\n",
       "          (conv2): Conv2d(256, 256, kernel_size=(3, 3), stride=(1, 1), padding=(1, 1), bias=False)\n",
       "          (bn2): BatchNorm2d(256, eps=1e-05, momentum=0.1, affine=True, track_running_stats=True)\n",
       "        )\n",
       "        (3): BasicBlock(\n",
       "          (conv1): Conv2d(256, 256, kernel_size=(3, 3), stride=(1, 1), padding=(1, 1), bias=False)\n",
       "          (bn1): BatchNorm2d(256, eps=1e-05, momentum=0.1, affine=True, track_running_stats=True)\n",
       "          (relu): ReLU(inplace=True)\n",
       "          (conv2): Conv2d(256, 256, kernel_size=(3, 3), stride=(1, 1), padding=(1, 1), bias=False)\n",
       "          (bn2): BatchNorm2d(256, eps=1e-05, momentum=0.1, affine=True, track_running_stats=True)\n",
       "        )\n",
       "        (4): BasicBlock(\n",
       "          (conv1): Conv2d(256, 256, kernel_size=(3, 3), stride=(1, 1), padding=(1, 1), bias=False)\n",
       "          (bn1): BatchNorm2d(256, eps=1e-05, momentum=0.1, affine=True, track_running_stats=True)\n",
       "          (relu): ReLU(inplace=True)\n",
       "          (conv2): Conv2d(256, 256, kernel_size=(3, 3), stride=(1, 1), padding=(1, 1), bias=False)\n",
       "          (bn2): BatchNorm2d(256, eps=1e-05, momentum=0.1, affine=True, track_running_stats=True)\n",
       "        )\n",
       "        (5): BasicBlock(\n",
       "          (conv1): Conv2d(256, 256, kernel_size=(3, 3), stride=(1, 1), padding=(1, 1), bias=False)\n",
       "          (bn1): BatchNorm2d(256, eps=1e-05, momentum=0.1, affine=True, track_running_stats=True)\n",
       "          (relu): ReLU(inplace=True)\n",
       "          (conv2): Conv2d(256, 256, kernel_size=(3, 3), stride=(1, 1), padding=(1, 1), bias=False)\n",
       "          (bn2): BatchNorm2d(256, eps=1e-05, momentum=0.1, affine=True, track_running_stats=True)\n",
       "        )\n",
       "      )\n",
       "      (layer4): Sequential(\n",
       "        (0): BasicBlock(\n",
       "          (conv1): Conv2d(256, 512, kernel_size=(3, 3), stride=(2, 2), padding=(1, 1), bias=False)\n",
       "          (bn1): BatchNorm2d(512, eps=1e-05, momentum=0.1, affine=True, track_running_stats=True)\n",
       "          (relu): ReLU(inplace=True)\n",
       "          (conv2): Conv2d(512, 512, kernel_size=(3, 3), stride=(1, 1), padding=(1, 1), bias=False)\n",
       "          (bn2): BatchNorm2d(512, eps=1e-05, momentum=0.1, affine=True, track_running_stats=True)\n",
       "          (downsample): Sequential(\n",
       "            (0): Conv2d(256, 512, kernel_size=(1, 1), stride=(2, 2), bias=False)\n",
       "            (1): BatchNorm2d(512, eps=1e-05, momentum=0.1, affine=True, track_running_stats=True)\n",
       "          )\n",
       "        )\n",
       "        (1): BasicBlock(\n",
       "          (conv1): Conv2d(512, 512, kernel_size=(3, 3), stride=(1, 1), padding=(1, 1), bias=False)\n",
       "          (bn1): BatchNorm2d(512, eps=1e-05, momentum=0.1, affine=True, track_running_stats=True)\n",
       "          (relu): ReLU(inplace=True)\n",
       "          (conv2): Conv2d(512, 512, kernel_size=(3, 3), stride=(1, 1), padding=(1, 1), bias=False)\n",
       "          (bn2): BatchNorm2d(512, eps=1e-05, momentum=0.1, affine=True, track_running_stats=True)\n",
       "        )\n",
       "        (2): BasicBlock(\n",
       "          (conv1): Conv2d(512, 512, kernel_size=(3, 3), stride=(1, 1), padding=(1, 1), bias=False)\n",
       "          (bn1): BatchNorm2d(512, eps=1e-05, momentum=0.1, affine=True, track_running_stats=True)\n",
       "          (relu): ReLU(inplace=True)\n",
       "          (conv2): Conv2d(512, 512, kernel_size=(3, 3), stride=(1, 1), padding=(1, 1), bias=False)\n",
       "          (bn2): BatchNorm2d(512, eps=1e-05, momentum=0.1, affine=True, track_running_stats=True)\n",
       "        )\n",
       "      )\n",
       "      (avgpool): AdaptiveAvgPool2d(output_size=(1, 1))\n",
       "    )\n",
       "    (decoder): UnetDecoder(\n",
       "      (layer1): DecoderBlock(\n",
       "        (block): Sequential(\n",
       "          (0): Conv2dReLU(\n",
       "            (block): Sequential(\n",
       "              (0): Conv2d(768, 256, kernel_size=(3, 3), stride=(1, 1), padding=(1, 1), bias=False)\n",
       "              (1): BatchNorm2d(256, eps=1e-05, momentum=0.1, affine=True, track_running_stats=True)\n",
       "              (2): ReLU(inplace=True)\n",
       "            )\n",
       "          )\n",
       "          (1): Conv2dReLU(\n",
       "            (block): Sequential(\n",
       "              (0): Conv2d(256, 256, kernel_size=(3, 3), stride=(1, 1), padding=(1, 1), bias=False)\n",
       "              (1): BatchNorm2d(256, eps=1e-05, momentum=0.1, affine=True, track_running_stats=True)\n",
       "              (2): ReLU(inplace=True)\n",
       "            )\n",
       "          )\n",
       "        )\n",
       "      )\n",
       "      (layer2): DecoderBlock(\n",
       "        (block): Sequential(\n",
       "          (0): Conv2dReLU(\n",
       "            (block): Sequential(\n",
       "              (0): Conv2d(384, 128, kernel_size=(3, 3), stride=(1, 1), padding=(1, 1), bias=False)\n",
       "              (1): BatchNorm2d(128, eps=1e-05, momentum=0.1, affine=True, track_running_stats=True)\n",
       "              (2): ReLU(inplace=True)\n",
       "            )\n",
       "          )\n",
       "          (1): Conv2dReLU(\n",
       "            (block): Sequential(\n",
       "              (0): Conv2d(128, 128, kernel_size=(3, 3), stride=(1, 1), padding=(1, 1), bias=False)\n",
       "              (1): BatchNorm2d(128, eps=1e-05, momentum=0.1, affine=True, track_running_stats=True)\n",
       "              (2): ReLU(inplace=True)\n",
       "            )\n",
       "          )\n",
       "        )\n",
       "      )\n",
       "      (layer3): DecoderBlock(\n",
       "        (block): Sequential(\n",
       "          (0): Conv2dReLU(\n",
       "            (block): Sequential(\n",
       "              (0): Conv2d(192, 64, kernel_size=(3, 3), stride=(1, 1), padding=(1, 1), bias=False)\n",
       "              (1): BatchNorm2d(64, eps=1e-05, momentum=0.1, affine=True, track_running_stats=True)\n",
       "              (2): ReLU(inplace=True)\n",
       "            )\n",
       "          )\n",
       "          (1): Conv2dReLU(\n",
       "            (block): Sequential(\n",
       "              (0): Conv2d(64, 64, kernel_size=(3, 3), stride=(1, 1), padding=(1, 1), bias=False)\n",
       "              (1): BatchNorm2d(64, eps=1e-05, momentum=0.1, affine=True, track_running_stats=True)\n",
       "              (2): ReLU(inplace=True)\n",
       "            )\n",
       "          )\n",
       "        )\n",
       "      )\n",
       "      (layer4): DecoderBlock(\n",
       "        (block): Sequential(\n",
       "          (0): Conv2dReLU(\n",
       "            (block): Sequential(\n",
       "              (0): Conv2d(128, 32, kernel_size=(3, 3), stride=(1, 1), padding=(1, 1), bias=False)\n",
       "              (1): BatchNorm2d(32, eps=1e-05, momentum=0.1, affine=True, track_running_stats=True)\n",
       "              (2): ReLU(inplace=True)\n",
       "            )\n",
       "          )\n",
       "          (1): Conv2dReLU(\n",
       "            (block): Sequential(\n",
       "              (0): Conv2d(32, 32, kernel_size=(3, 3), stride=(1, 1), padding=(1, 1), bias=False)\n",
       "              (1): BatchNorm2d(32, eps=1e-05, momentum=0.1, affine=True, track_running_stats=True)\n",
       "              (2): ReLU(inplace=True)\n",
       "            )\n",
       "          )\n",
       "        )\n",
       "      )\n",
       "      (layer5): DecoderBlock(\n",
       "        (block): Sequential(\n",
       "          (0): Conv2dReLU(\n",
       "            (block): Sequential(\n",
       "              (0): Conv2d(32, 16, kernel_size=(3, 3), stride=(1, 1), padding=(1, 1), bias=False)\n",
       "              (1): BatchNorm2d(16, eps=1e-05, momentum=0.1, affine=True, track_running_stats=True)\n",
       "              (2): ReLU(inplace=True)\n",
       "            )\n",
       "          )\n",
       "          (1): Conv2dReLU(\n",
       "            (block): Sequential(\n",
       "              (0): Conv2d(16, 16, kernel_size=(3, 3), stride=(1, 1), padding=(1, 1), bias=False)\n",
       "              (1): BatchNorm2d(16, eps=1e-05, momentum=0.1, affine=True, track_running_stats=True)\n",
       "              (2): ReLU(inplace=True)\n",
       "            )\n",
       "          )\n",
       "        )\n",
       "      )\n",
       "      (final_conv): Conv2d(16, 1, kernel_size=(1, 1), stride=(1, 1))\n",
       "    )\n",
       "  )\n",
       ")"
      ]
     },
     "execution_count": 32,
     "metadata": {},
     "output_type": "execute_result"
    }
   ],
   "source": [
    "model"
   ]
  },
  {
   "cell_type": "markdown",
   "metadata": {},
   "source": [
    "## Model Training and validation"
   ]
  },
  {
   "cell_type": "code",
   "execution_count": 15,
   "metadata": {},
   "outputs": [],
   "source": [
    "class ModelCompiler(object):\n",
    "    def __init__(self, model):\n",
    "        self.device = torch.device('cuda:0')\n",
    "        torch.set_default_tensor_type(\"torch.cuda.FloatTensor\")\n",
    "        self.net = model\n",
    "        self.net = self.net.to(self.device)\n",
    "        cudnn.benchmark = True\n",
    "        self.criterion = MixedLoss(10.0, 2.0)\n",
    "\n",
    "\n",
    "    def forward(self, images, targets):\n",
    "        images = images.to(self.device)\n",
    "        masks = targets.to(self.device)\n",
    "        outputs = self.net(images)\n",
    "        loss = self.criterion(outputs, masks)\n",
    "        return loss, outputs\n",
    "\n",
    "from ranger import Ranger\n",
    "optar = partial(Ranger, k=8)\n",
    "    \n",
    "class Trainer(object):\n",
    "    '''This class takes care of training and validation of our model'''\n",
    "    def __init__(self, model_compiler, num_workers = 16, batch_size=(32,16), lr = 5e-4, \n",
    "                 n_epochs=100, fold=1, total_folds=5, size=512, down_sample=False,\n",
    "                 Optim_factor=0.1, Optim_patience=3, Optim_cooldown=0, sample=None, seed=42):\n",
    "        self.fold = fold\n",
    "        self.total_folds = 5\n",
    "        self.num_workers = num_workers\n",
    "        self.batch_size = {\"train\": batch_size[0], \"val\": batch_size[1]}\n",
    "        self.accumulation_steps = max([2, 16 // self.batch_size['train']])\n",
    "        self.lr = lr\n",
    "        self.num_epochs = n_epochs\n",
    "        self.best_loss = float(\"inf\")\n",
    "        self.phases = [\"train\", \"val\"]\n",
    "        self.model_compiler = model_compiler\n",
    "        # self.optimizer = optim.Adam(self.model_compiler.net.parameters(), lr=self.lr)\n",
    "        self.optimizer = opt_ranger(self.model_compiler.net.parameters(), lr=self.lr)\n",
    "\n",
    "        self.scheduler = ReduceLROnPlateau(self.optimizer, mode=\"min\", \n",
    "                                           factor=Optim_factor, cooldown=Optim_cooldown, patience=Optim_patience,\n",
    "                                           verbose=True)\n",
    "\n",
    "        cudnn.benchmark = True\n",
    "        self.dataloaders = {\n",
    "            phase: provider2(\n",
    "                fold=fold,\n",
    "                total_folds=total_folds,\n",
    "                df_path=train_rle_path,\n",
    "                phase=phase,\n",
    "                size=size,\n",
    "                lookup_dict=lookup_dict,                \n",
    "                mean=(0.485, 0.456, 0.406),\n",
    "                std=(0.229, 0.224, 0.225),\n",
    "                batch_size=self.batch_size[phase],\n",
    "                num_workers=self.num_workers,\n",
    "                seed=seed,\n",
    "                down_sample = down_sample,\n",
    "                sample=sample\n",
    "            )\n",
    "            for phase in self.phases}\n",
    "\n",
    "        self.losses = {phase: [] for phase in self.phases}\n",
    "        self.iou_scores = {phase: [] for phase in self.phases}\n",
    "        self.dice_scores = {phase: [] for phase in self.phases}\n",
    "        \n",
    "\n",
    "    def iterate(self, epoch, phase):\n",
    "        meter = Meter(phase, epoch)\n",
    "        start = time.strftime(\"%H:%M:%S\")\n",
    "        print(f\"Starting epoch: {epoch} | phase: {phase} | ⏰: {start}\")\n",
    "        batch_size = self.batch_size[phase]\n",
    "        self.model_compiler.net.train(phase == \"train\")\n",
    "        dataloader = self.dataloaders[phase]\n",
    "        running_loss = 0.0\n",
    "        total_batches = len(dataloader)\n",
    "#         tk0 = tqdm(dataloader, total=total_batches)\n",
    "        self.optimizer.zero_grad()\n",
    "        for itr, batch in enumerate(dataloader):\n",
    "            if phase == 'train':\n",
    "                self.model_compiler.net.train()\n",
    "            else:\n",
    "                self.model_compiler.net.eval()\n",
    "            images, targets = batch\n",
    "            loss, outputs = self.model_compiler.forward(images, targets)\n",
    "            loss = loss / self.accumulation_steps\n",
    "            if phase == \"train\":\n",
    "                loss.backward()\n",
    "                if (itr + 1 ) % self.accumulation_steps == 0:\n",
    "                    self.optimizer.step()\n",
    "                    self.optimizer.zero_grad()\n",
    "            running_loss += loss.item()\n",
    "            outputs = outputs.detach().cpu()\n",
    "            meter.update(targets, outputs)\n",
    "#             tk0.set_postfix(loss=(running_loss / ((itr + 1))))\n",
    "        epoch_loss = (running_loss * self.accumulation_steps) / total_batches\n",
    "        dice, iou = epoch_log(phase, epoch, epoch_loss, meter, start)\n",
    "        self.losses[phase].append(epoch_loss)\n",
    "        self.dice_scores[phase].append(dice)\n",
    "        self.iou_scores[phase].append(iou)\n",
    "        torch.cuda.empty_cache()\n",
    "        return epoch_loss\n",
    "\n",
    "    def start(self, model_path = './model_pytorch__unet_resnet34.pth'):\n",
    "        for epoch in range(self.num_epochs):\n",
    "            self.iterate(epoch, \"train\")\n",
    "            state = {\n",
    "                \"epoch\": epoch,\n",
    "                \"best_loss\": self.best_loss,\n",
    "                \"state_dict\": self.model_compiler.net.state_dict(),\n",
    "                \"optimizer\": self.optimizer.state_dict(),\n",
    "            }\n",
    "            val_loss = self.iterate(epoch, \"val\")\n",
    "            self.scheduler.step(val_loss)\n",
    "            if val_loss < self.best_loss:\n",
    "                print(\"******** New optimal found, saving state ********\")\n",
    "                state[\"best_loss\"] = self.best_loss = val_loss\n",
    "                torch.save(state, model_path)\n",
    "            print()"
   ]
  },
  {
   "cell_type": "code",
   "execution_count": 16,
   "metadata": {},
   "outputs": [
    {
     "name": "stdout",
     "output_type": "stream",
     "text": [
      "phase:  train\n",
      "original rows: 12954\n",
      "rows with mask: 3576, without mask: 9378\n",
      "sampled data to rows: 12954\n",
      "*****  phase train data set rows: 10362\n",
      "train original rows: 10362 to rows: 15004\n",
      "phase:  val\n",
      "original rows: 12954\n",
      "rows with mask: 3576, without mask: 9378\n",
      "sampled data to rows: 12954\n",
      "*****  phase val data set rows: 2592\n"
     ]
    }
   ],
   "source": [
    "num_workers = 8\n",
    "# batch_size=(12,8) # size 1024\n",
    "# batch_size=(32,16) # size 512\n",
    "# batch_size=(16,12) # size 512 single GPU\n",
    "batch_size=(72,48) # size 512 single GPU\n",
    "lr = 1e-3\n",
    "n_epochs=24\n",
    "total_folds=5\n",
    "fold = 0\n",
    "Optim_factor = 0.1\n",
    "Optim_patience = 3\n",
    "Optim_cooldown = 1\n",
    "\n",
    "model_compiler = ModelCompiler(model)\n",
    "\n",
    "model_trainer = Trainer(model_compiler, num_workers = num_workers, \n",
    "                        batch_size=batch_size, lr = lr, n_epochs=n_epochs, seed=50,\n",
    "                        total_folds=total_folds, fold=fold, size=512, sample=None,\n",
    "                        Optim_factor=Optim_factor, Optim_patience=Optim_patience, Optim_cooldown=Optim_cooldown)\n",
    "\n",
    "model_path = f'./stage2_model2_pytorch_unet_resnet34_CV{fold}-CLAHE-512.pth'\n"
   ]
  },
  {
   "cell_type": "code",
   "execution_count": null,
   "metadata": {},
   "outputs": [
    {
     "name": "stdout",
     "output_type": "stream",
     "text": [
      "Starting epoch: 0 | phase: train | ⏰: 08:40:04\n",
      "Loss: 2.2659 | dice: 0.2027 | dice_neg: 0.0800 | dice_pos: 0.3251 | IoU: 0.2256\n",
      "Starting epoch: 0 | phase: val | ⏰: 08:45:27\n",
      "Loss: 2.5420 | dice: 0.2790 | dice_neg: 0.2771 | dice_pos: 0.2797 | IoU: 0.1987\n",
      "******** New optimal found, saving state ********\n",
      "\n",
      "Starting epoch: 1 | phase: train | ⏰: 08:46:19\n",
      "Loss: 1.5495 | dice: 0.4329 | dice_neg: 0.4781 | dice_pos: 0.3905 | IoU: 0.2865\n",
      "Starting epoch: 1 | phase: val | ⏰: 08:51:41\n",
      "Loss: 2.2425 | dice: 0.5968 | dice_neg: 0.7301 | dice_pos: 0.2466 | IoU: 0.1816\n",
      "******** New optimal found, saving state ********\n",
      "\n",
      "Starting epoch: 2 | phase: train | ⏰: 08:52:33\n",
      "Loss: 1.2547 | dice: 0.5533 | dice_neg: 0.6771 | dice_pos: 0.4315 | IoU: 0.3275\n",
      "Starting epoch: 2 | phase: val | ⏰: 08:57:56\n",
      "Loss: 2.0401 | dice: 0.6342 | dice_neg: 0.7712 | dice_pos: 0.2710 | IoU: 0.2015\n",
      "******** New optimal found, saving state ********\n",
      "\n",
      "Starting epoch: 3 | phase: train | ⏰: 08:58:47\n",
      "Loss: 1.1127 | dice: 0.5978 | dice_neg: 0.7389 | dice_pos: 0.4589 | IoU: 0.3541\n",
      "Starting epoch: 3 | phase: val | ⏰: 09:04:12\n",
      "Loss: 1.8754 | dice: 0.5102 | dice_neg: 0.5788 | dice_pos: 0.3313 | IoU: 0.2450\n",
      "******** New optimal found, saving state ********\n",
      "\n",
      "Starting epoch: 4 | phase: train | ⏰: 09:05:04\n",
      "Loss: 1.0441 | dice: 0.6119 | dice_neg: 0.7535 | dice_pos: 0.4711 | IoU: 0.3668\n",
      "Starting epoch: 4 | phase: val | ⏰: 09:10:25\n",
      "Loss: 1.7427 | dice: 0.6171 | dice_neg: 0.7305 | dice_pos: 0.3162 | IoU: 0.2370\n",
      "******** New optimal found, saving state ********\n",
      "\n",
      "Starting epoch: 5 | phase: train | ⏰: 09:11:16\n",
      "Loss: 0.9182 | dice: 0.6603 | dice_neg: 0.8164 | dice_pos: 0.5069 | IoU: 0.4019\n",
      "Starting epoch: 5 | phase: val | ⏰: 09:16:42\n",
      "Loss: 1.9544 | dice: 0.7229 | dice_neg: 0.9041 | dice_pos: 0.2437 | IoU: 0.1845\n",
      "\n",
      "Starting epoch: 6 | phase: train | ⏰: 09:17:32\n",
      "Loss: 0.8577 | dice: 0.6795 | dice_neg: 0.8411 | dice_pos: 0.5200 | IoU: 0.4169\n",
      "Starting epoch: 6 | phase: val | ⏰: 09:22:56\n",
      "Loss: 1.8200 | dice: 0.7017 | dice_neg: 0.8717 | dice_pos: 0.2568 | IoU: 0.1938\n",
      "\n",
      "Starting epoch: 7 | phase: train | ⏰: 09:23:45\n",
      "Loss: 0.7910 | dice: 0.6925 | dice_neg: 0.8496 | dice_pos: 0.5360 | IoU: 0.4326\n",
      "Starting epoch: 7 | phase: val | ⏰: 09:29:08\n",
      "Loss: 1.6748 | dice: 0.6044 | dice_neg: 0.7251 | dice_pos: 0.2862 | IoU: 0.2169\n",
      "******** New optimal found, saving state ********\n",
      "\n",
      "Starting epoch: 8 | phase: train | ⏰: 09:29:59\n",
      "Loss: 0.7368 | dice: 0.7125 | dice_neg: 0.8804 | dice_pos: 0.5476 | IoU: 0.4468\n",
      "Starting epoch: 8 | phase: val | ⏰: 09:35:21\n",
      "Loss: 1.6047 | dice: 0.7068 | dice_neg: 0.8634 | dice_pos: 0.2978 | IoU: 0.2283\n",
      "******** New optimal found, saving state ********\n",
      "\n",
      "Starting epoch: 9 | phase: train | ⏰: 09:36:11\n",
      "Loss: 0.6992 | dice: 0.7216 | dice_neg: 0.8868 | dice_pos: 0.5570 | IoU: 0.4564\n",
      "Starting epoch: 9 | phase: val | ⏰: 09:41:31\n",
      "Loss: 1.7211 | dice: 0.7184 | dice_neg: 0.9040 | dice_pos: 0.2330 | IoU: 0.1792\n",
      "\n",
      "Starting epoch: 10 | phase: train | ⏰: 09:42:20\n",
      "Loss: 0.6375 | dice: 0.7402 | dice_neg: 0.9064 | dice_pos: 0.5750 | IoU: 0.4766\n",
      "Starting epoch: 10 | phase: val | ⏰: 09:47:37\n",
      "Loss: 1.5884 | dice: 0.6739 | dice_neg: 0.8304 | dice_pos: 0.2626 | IoU: 0.1988\n",
      "******** New optimal found, saving state ********\n",
      "\n",
      "Starting epoch: 11 | phase: train | ⏰: 09:48:26\n",
      "Loss: 0.6015 | dice: 0.7517 | dice_neg: 0.9208 | dice_pos: 0.5837 | IoU: 0.4855\n",
      "Starting epoch: 11 | phase: val | ⏰: 09:53:42\n",
      "Loss: 1.6812 | dice: 0.7393 | dice_neg: 0.9244 | dice_pos: 0.2529 | IoU: 0.1929\n",
      "\n",
      "Starting epoch: 12 | phase: train | ⏰: 09:54:30\n",
      "Loss: 0.5588 | dice: 0.7602 | dice_neg: 0.9287 | dice_pos: 0.5943 | IoU: 0.4972\n",
      "Starting epoch: 12 | phase: val | ⏰: 09:59:43\n",
      "Loss: 1.7149 | dice: 0.7302 | dice_neg: 0.9194 | dice_pos: 0.2285 | IoU: 0.1748\n",
      "\n",
      "Starting epoch: 13 | phase: train | ⏰: 10:00:31\n",
      "Loss: 0.5210 | dice: 0.7741 | dice_neg: 0.9456 | dice_pos: 0.6049 | IoU: 0.5106\n",
      "Starting epoch: 13 | phase: val | ⏰: 10:05:49\n",
      "Loss: 1.6216 | dice: 0.7267 | dice_neg: 0.9145 | dice_pos: 0.2416 | IoU: 0.1838\n",
      "\n",
      "Starting epoch: 14 | phase: train | ⏰: 10:06:38\n",
      "Loss: 0.5489 | dice: 0.7509 | dice_neg: 0.9220 | dice_pos: 0.5808 | IoU: 0.4819\n",
      "Starting epoch: 14 | phase: val | ⏰: 10:11:55\n",
      "Loss: 1.5275 | dice: 0.7434 | dice_neg: 0.9305 | dice_pos: 0.2539 | IoU: 0.1977\n",
      "******** New optimal found, saving state ********\n",
      "\n",
      "Starting epoch: 15 | phase: train | ⏰: 10:12:46\n",
      "Loss: 0.4996 | dice: 0.7721 | dice_neg: 0.9435 | dice_pos: 0.6017 | IoU: 0.5059\n",
      "Starting epoch: 15 | phase: val | ⏰: 10:18:08\n"
     ]
    }
   ],
   "source": [
    "model_trainer.start(model_path)"
   ]
  },
  {
   "cell_type": "code",
   "execution_count": 19,
   "metadata": {},
   "outputs": [
    {
     "data": {
      "image/png": "[encoded data removed]",
      "text/plain": [
       "<Figure size 1080x360 with 1 Axes>"
      ]
     },
     "metadata": {
      "needs_background": "light"
     },
     "output_type": "display_data"
    },
    {
     "data": {
      "image/png": "[encoded data removed]",
      "text/plain": [
       "<Figure size 1080x360 with 1 Axes>"
      ]
     },
     "metadata": {
      "needs_background": "light"
     },
     "output_type": "display_data"
    },
    {
     "data": {
      "image/png": "[encoded data removed]",
      "text/plain": [
       "<Figure size 1080x360 with 1 Axes>"
      ]
     },
     "metadata": {
      "needs_background": "light"
     },
     "output_type": "display_data"
    }
   ],
   "source": [
    "# PLOT TRAINING\n",
    "losses = model_trainer.losses\n",
    "dice_scores = model_trainer.dice_scores # overall dice\n",
    "iou_scores = model_trainer.iou_scores\n",
    "\n",
    "def plot(scores, name):\n",
    "    plt.figure(figsize=(15,5))\n",
    "    plt.plot(range(len(scores[\"train\"])), scores[\"train\"], label=f'train {name}')\n",
    "    plt.plot(range(len(scores[\"train\"])), scores[\"val\"], label=f'val {name}')\n",
    "    plt.title(f'{name} plot'); plt.xlabel('Epoch'); plt.ylabel(f'{name}');\n",
    "    plt.legend(); \n",
    "    plt.show()\n",
    "\n",
    "plot(losses, \"BCE loss\")\n",
    "plot(dice_scores, \"Dice score\")\n",
    "plot(iou_scores, \"IoU score\")"
   ]
  },
  {
   "cell_type": "code",
   "execution_count": null,
   "metadata": {},
   "outputs": [],
   "source": [
    "\n"
   ]
  },
  {
   "cell_type": "markdown",
   "metadata": {},
   "source": [
    "## Test prediction"
   ]
  },
  {
   "cell_type": "code",
   "execution_count": 13,
   "metadata": {},
   "outputs": [],
   "source": [
    "class TestDataset(Dataset):\n",
    "    def __init__(self, root, df, size, mean, std, tta=4):\n",
    "        self.root = root\n",
    "        self.size = size\n",
    "        self.fnames = list(df[\"ImageId\"])\n",
    "        self.num_samples = len(self.fnames)\n",
    "        self.transform = Compose(\n",
    "            [\n",
    "                Normalize(mean=mean, std=std, p=1),\n",
    "                Resize(size, size),\n",
    "                ToTensor(),\n",
    "            ]\n",
    "        )\n",
    "\n",
    "    def __getitem__(self, idx):\n",
    "        fname = self.fnames[idx]\n",
    "        path = os.path.join(self.root, fname + \".png\")\n",
    "        image = cv2.imread(path)\n",
    "        images = self.transform(image=image)[\"image\"]\n",
    "        return images\n",
    "\n",
    "    def __len__(self):\n",
    "        return self.num_samples\n",
    "\n",
    "def post_process(probability, threshold, min_size):\n",
    "    mask = cv2.threshold(probability, threshold, 1, cv2.THRESH_BINARY)[1]\n",
    "    num_component, component = cv2.connectedComponents(mask.astype(np.uint8))\n",
    "    predictions = np.zeros((1024, 1024), np.float32)\n",
    "    num = 0\n",
    "    for c in range(1, num_component):\n",
    "        p = (component == c)\n",
    "        if p.sum() > min_size:\n",
    "            predictions[p] = 1\n",
    "            num += 1\n",
    "    return predictions, num"
   ]
  },
  {
   "cell_type": "markdown",
   "metadata": {},
   "source": [
    "# single fold"
   ]
  },
  {
   "cell_type": "code",
   "execution_count": 15,
   "metadata": {},
   "outputs": [
    {
     "name": "stdout",
     "output_type": "stream",
     "text": [
      "/home/chengjiun/Workspace/kaggle-2019Q3-siim\n"
     ]
    }
   ],
   "source": [
    "%cd ~/Workspace/kaggle-2019Q3-siim/"
   ]
  },
  {
   "cell_type": "code",
   "execution_count": 18,
   "metadata": {},
   "outputs": [
    {
     "data": {
      "application/vnd.jupyter.widget-view+json": {
       "model_id": "c4406f68fe6544d7a3db6010915216c8",
       "version_major": 2,
       "version_minor": 0
      },
      "text/plain": [
       "HBox(children=(IntProgress(value=0, max=401), HTML(value='')))"
      ]
     },
     "metadata": {},
     "output_type": "display_data"
    },
    {
     "name": "stdout",
     "output_type": "stream",
     "text": [
      "\n"
     ]
    }
   ],
   "source": [
    "size = 512\n",
    "mean = (0.485, 0.456, 0.406)\n",
    "std = (0.229, 0.224, 0.225)\n",
    "num_workers = 8\n",
    "batch_size = 32\n",
    "best_threshold = 0.5\n",
    "min_size = 3500\n",
    "device = torch.device(\"cuda:0\")\n",
    "df = pd.read_csv(sample_submission_path)\n",
    "testset = DataLoader(\n",
    "    TestDataset(test_data_folder, df, size, mean, std),\n",
    "    batch_size=batch_size,\n",
    "    shuffle=False,\n",
    "    num_workers=num_workers,\n",
    "    pin_memory=True,\n",
    ")\n",
    "\n",
    "# model = smp.Unet(\"se_resnext50_32x4d\", encoder_weights=\"imagenet\", activation=None)\n",
    "# if torch.cuda.device_count() > 1:\n",
    "#     print(\"Let's use\", torch.cuda.device_count(), \"GPUs!\")\n",
    "#     # dim = 0 [30, xxx] -> [10, ...], [10, ...], [10, ...] on 3 GPUs\n",
    "#     model = nn.DataParallel(model)\n",
    "model = model_trainer.model_compiler.net        \n",
    "model.eval()\n",
    "\n",
    "\n",
    "fold = 0\n",
    "total_folds = 5\n",
    "model_path = f'./stage2_model2_pytorch_unet_resnet34_CV{fold}-CLAHE-512.pth'\n",
    "state = torch.load(model_path, map_location=lambda storage, loc: storage)\n",
    "model.load_state_dict(state[\"state_dict\"])\n",
    "encoded_pixels = []\n",
    "for i, batch in enumerate(tqdm(testset)):\n",
    "    preds = torch.sigmoid(model(batch.to(device)))\n",
    "    preds = preds.detach().cpu().numpy()[:, 0, :, :] # (batch_size, 1, size, size) -> (batch_size, size, size)\n",
    "    for probability in preds:\n",
    "        if probability.shape != (1024, 1024):\n",
    "            probability = cv2.resize(probability, dsize=(1024, 1024), interpolation=cv2.INTER_LINEAR)\n",
    "        predict, num_predict = post_process(probability, best_threshold, min_size)\n",
    "        if num_predict == 0:\n",
    "            encoded_pixels.append('-1')\n",
    "        else:\n",
    "            r = run_length_encode(predict)\n",
    "            encoded_pixels.append(r)\n",
    "df['EncodedPixels'] = encoded_pixels\n",
    "df.to_csv(f'submission-stage2-2-unet-resnet34_cv{fold}in{total_folds}-CLAHE-512.csv', columns=['ImageId', 'EncodedPixels'], index=False)\n",
    "\n",
    "\n"
   ]
  },
  {
   "cell_type": "code",
   "execution_count": 59,
   "metadata": {},
   "outputs": [],
   "source": [
    "del model_compiler, model, model_trainer\n",
    "torch.cuda.empty_cache()"
   ]
  },
  {
   "cell_type": "code",
   "execution_count": 17,
   "metadata": {},
   "outputs": [
    {
     "name": "stdout",
     "output_type": "stream",
     "text": [
      "Let's use 4 GPUs!\n",
      "phase:  train\n",
      "original rows: 12954\n",
      "rows with mask: 3576, without mask: 9378\n",
      "sampled data to rows: 7152\n",
      "*****  phase train data set rows: 5722\n",
      "phase:  val\n",
      "original rows: 12954\n",
      "rows with mask: 3576, without mask: 9378\n",
      "sampled data to rows: 7152\n",
      "*****  phase val data set rows: 1430\n"
     ]
    }
   ],
   "source": [
    "model = smp.Unet(\"resnet34\", encoder_weights=\"imagenet\", activation=None)\n",
    "if torch.cuda.device_count() > 1:\n",
    "    print(\"Let's use\", torch.cuda.device_count(), \"GPUs!\")\n",
    "    # dim = 0 [30, xxx] -> [10, ...], [10, ...], [10, ...] on 3 GPUs\n",
    "    model = nn.DataParallel(model)\n",
    "    \n",
    "num_workers = 8\n",
    "# batch_size=(12,8) # size 1024\n",
    "# batch_size=(32,16) # size 512\n",
    "# batch_size=(16,12) # size 512 single GPU\n",
    "batch_size=(80,54) # size 512 4 GPU\n",
    "# batch_size=(128,54) # size 512 6 GPU\n",
    "lr = 5e-3\n",
    "n_epochs=16\n",
    "total_folds=5\n",
    "fold = 3\n",
    "Optim_factor = 0.1\n",
    "Optim_patience = 2\n",
    "Optim_cooldown = 1\n",
    "\n",
    "model_compiler = ModelCompiler(model)\n",
    "\n",
    "model_trainer = Trainer(model_compiler, num_workers = num_workers, \n",
    "                        batch_size=batch_size, lr = lr, n_epochs=n_epochs, seed=5044+fold,\n",
    "                        total_folds=total_folds, fold=fold, size=512, sample=None, down_sample=True,\n",
    "                        Optim_factor=Optim_factor, Optim_patience=Optim_patience, Optim_cooldown=Optim_cooldown)\n",
    "\n",
    "model_path = f'./stage2_model3_pytorch_unet_resnet34_CV{fold}-CLAHE-512.pth'\n",
    "\n"
   ]
  },
  {
   "cell_type": "code",
   "execution_count": 18,
   "metadata": {},
   "outputs": [
    {
     "name": "stdout",
     "output_type": "stream",
     "text": [
      "Starting epoch: 0 | phase: train | ⏰: 11:53:49\n",
      "Loss: 5.1696 | dice: 0.0282 | dice_neg: 0.0000 | dice_pos: 0.0575 | IoU: 0.0349\n",
      "Starting epoch: 0 | phase: val | ⏰: 11:56:23\n",
      "Loss: 3.8333 | dice: 0.1011 | dice_neg: 0.0000 | dice_pos: 0.2032 | IoU: 0.1262\n",
      "******** New optimal found, saving state ********\n",
      "\n",
      "Starting epoch: 1 | phase: train | ⏰: 11:56:57\n",
      "Loss: 2.6353 | dice: 0.1677 | dice_neg: 0.0663 | dice_pos: 0.2680 | IoU: 0.1774\n",
      "Starting epoch: 1 | phase: val | ⏰: 11:59:17\n",
      "Loss: 2.3746 | dice: 0.2605 | dice_neg: 0.2382 | dice_pos: 0.2817 | IoU: 0.1938\n",
      "******** New optimal found, saving state ********\n",
      "\n",
      "Starting epoch: 2 | phase: train | ⏰: 11:59:52\n",
      "Loss: 1.8019 | dice: 0.3394 | dice_neg: 0.3621 | dice_pos: 0.3198 | IoU: 0.2267\n",
      "Starting epoch: 2 | phase: val | ⏰: 12:02:04\n",
      "Loss: 6.9533 | dice: 0.1181 | dice_neg: 0.0305 | dice_pos: 0.2053 | IoU: 0.1294\n",
      "\n",
      "Starting epoch: 3 | phase: train | ⏰: 12:02:34\n",
      "Loss: 1.5723 | dice: 0.3914 | dice_neg: 0.4641 | dice_pos: 0.3210 | IoU: 0.2292\n",
      "Starting epoch: 3 | phase: val | ⏰: 12:04:46\n",
      "Loss: 1.4299 | dice: 0.4894 | dice_neg: 0.6404 | dice_pos: 0.3360 | IoU: 0.2473\n",
      "******** New optimal found, saving state ********\n",
      "\n",
      "Starting epoch: 4 | phase: train | ⏰: 12:05:20\n",
      "Loss: 1.3041 | dice: 0.4767 | dice_neg: 0.6048 | dice_pos: 0.3498 | IoU: 0.2577\n",
      "Starting epoch: 4 | phase: val | ⏰: 12:07:32\n",
      "Loss: 1.7752 | dice: 0.4317 | dice_neg: 0.5658 | dice_pos: 0.2923 | IoU: 0.2112\n",
      "\n",
      "Starting epoch: 5 | phase: train | ⏰: 12:08:03\n",
      "Loss: 1.2112 | dice: 0.4815 | dice_neg: 0.6237 | dice_pos: 0.3427 | IoU: 0.2526\n",
      "Starting epoch: 5 | phase: val | ⏰: 12:10:18\n",
      "Loss: 1.2768 | dice: 0.5360 | dice_neg: 0.7515 | dice_pos: 0.3178 | IoU: 0.2411\n",
      "******** New optimal found, saving state ********\n",
      "\n",
      "Starting epoch: 6 | phase: train | ⏰: 12:10:52\n",
      "Loss: 1.1576 | dice: 0.4960 | dice_neg: 0.6582 | dice_pos: 0.3394 | IoU: 0.2534\n",
      "Starting epoch: 6 | phase: val | ⏰: 12:13:06\n",
      "Loss: 1.6082 | dice: 0.3197 | dice_neg: 0.3380 | dice_pos: 0.3032 | IoU: 0.2143\n",
      "\n",
      "Starting epoch: 7 | phase: train | ⏰: 12:13:37\n",
      "Loss: 1.0544 | dice: 0.5243 | dice_neg: 0.6925 | dice_pos: 0.3589 | IoU: 0.2690\n",
      "Starting epoch: 7 | phase: val | ⏰: 12:15:48\n",
      "Loss: 1.0908 | dice: 0.5762 | dice_neg: 0.8221 | dice_pos: 0.3304 | IoU: 0.2505\n",
      "******** New optimal found, saving state ********\n",
      "\n",
      "Starting epoch: 8 | phase: train | ⏰: 12:16:21\n",
      "Loss: 1.0103 | dice: 0.5455 | dice_neg: 0.7247 | dice_pos: 0.3657 | IoU: 0.2762\n",
      "Starting epoch: 8 | phase: val | ⏰: 12:18:30\n",
      "Loss: 2.6978 | dice: 0.1402 | dice_neg: 0.0744 | dice_pos: 0.2054 | IoU: 0.1366\n",
      "\n",
      "Starting epoch: 9 | phase: train | ⏰: 12:19:00\n",
      "Loss: 1.0154 | dice: 0.5464 | dice_neg: 0.7454 | dice_pos: 0.3511 | IoU: 0.2647\n",
      "Starting epoch: 9 | phase: val | ⏰: 12:21:10\n",
      "Loss: 1.0459 | dice: 0.5940 | dice_neg: 0.8999 | dice_pos: 0.2873 | IoU: 0.2211\n",
      "******** New optimal found, saving state ********\n",
      "\n",
      "Starting epoch: 10 | phase: train | ⏰: 12:21:43\n",
      "Loss: 0.9124 | dice: 0.5853 | dice_neg: 0.7939 | dice_pos: 0.3788 | IoU: 0.2898\n",
      "Starting epoch: 10 | phase: val | ⏰: 12:23:55\n",
      "Loss: 1.2975 | dice: 0.3793 | dice_neg: 0.4011 | dice_pos: 0.3599 | IoU: 0.2638\n",
      "\n",
      "Starting epoch: 11 | phase: train | ⏰: 12:24:25\n",
      "Loss: 0.9680 | dice: 0.5462 | dice_neg: 0.7286 | dice_pos: 0.3653 | IoU: 0.2757\n",
      "Starting epoch: 11 | phase: val | ⏰: 12:26:36\n",
      "Loss: 1.1462 | dice: 0.5346 | dice_neg: 0.7601 | dice_pos: 0.3073 | IoU: 0.2334\n",
      "\n",
      "Starting epoch: 12 | phase: train | ⏰: 12:27:06\n",
      "Loss: 0.9775 | dice: 0.5484 | dice_neg: 0.7505 | dice_pos: 0.3468 | IoU: 0.2615\n",
      "Starting epoch: 12 | phase: val | ⏰: 12:29:19\n",
      "Loss: 1.2678 | dice: 0.4659 | dice_neg: 0.6280 | dice_pos: 0.3050 | IoU: 0.2290\n",
      "Epoch    12: reducing learning rate of group 0 to 5.0000e-04.\n",
      "\n",
      "Starting epoch: 13 | phase: train | ⏰: 12:29:49\n",
      "Loss: 0.7915 | dice: 0.6237 | dice_neg: 0.8473 | dice_pos: 0.4016 | IoU: 0.3115\n",
      "Starting epoch: 13 | phase: val | ⏰: 12:32:01\n",
      "Loss: 0.9995 | dice: 0.5809 | dice_neg: 0.8427 | dice_pos: 0.3222 | IoU: 0.2501\n",
      "******** New optimal found, saving state ********\n",
      "\n",
      "Starting epoch: 14 | phase: train | ⏰: 12:32:34\n",
      "Loss: 0.7389 | dice: 0.6425 | dice_neg: 0.8679 | dice_pos: 0.4200 | IoU: 0.3285\n",
      "Starting epoch: 14 | phase: val | ⏰: 12:34:46\n",
      "Loss: 1.0148 | dice: 0.5815 | dice_neg: 0.8561 | dice_pos: 0.3086 | IoU: 0.2396\n",
      "\n",
      "Starting epoch: 15 | phase: train | ⏰: 12:35:17\n",
      "Loss: 0.7104 | dice: 0.6456 | dice_neg: 0.8661 | dice_pos: 0.4264 | IoU: 0.3348\n",
      "Starting epoch: 15 | phase: val | ⏰: 12:37:29\n",
      "Loss: 1.0694 | dice: 0.5802 | dice_neg: 0.8586 | dice_pos: 0.3033 | IoU: 0.2348\n",
      "\n"
     ]
    }
   ],
   "source": [
    "model_trainer.start(model_path)"
   ]
  },
  {
   "cell_type": "code",
   "execution_count": 20,
   "metadata": {},
   "outputs": [
    {
     "data": {
      "image/png": "[encoded data removed]",
      "text/plain": [
       "<Figure size 1080x360 with 1 Axes>"
      ]
     },
     "metadata": {
      "needs_background": "light"
     },
     "output_type": "display_data"
    },
    {
     "data": {
      "image/png": "[encoded data removed]",
      "text/plain": [
       "<Figure size 1080x360 with 1 Axes>"
      ]
     },
     "metadata": {
      "needs_background": "light"
     },
     "output_type": "display_data"
    },
    {
     "data": {
      "image/png": "[encoded data removed]",
      "text/plain": [
       "<Figure size 1080x360 with 1 Axes>"
      ]
     },
     "metadata": {
      "needs_background": "light"
     },
     "output_type": "display_data"
    }
   ],
   "source": [
    "# PLOT TRAINING\n",
    "losses = model_trainer.losses\n",
    "dice_scores = model_trainer.dice_scores # overall dice\n",
    "iou_scores = model_trainer.iou_scores\n",
    "\n",
    "def plot(scores, name):\n",
    "    plt.figure(figsize=(15,5))\n",
    "    plt.plot(range(len(scores[\"train\"])), scores[\"train\"], label=f'train {name}')\n",
    "    plt.plot(range(len(scores[\"train\"])), scores[\"val\"], label=f'val {name}')\n",
    "    plt.title(f'{name} plot'); plt.xlabel('Epoch'); plt.ylabel(f'{name}');\n",
    "    plt.legend(); \n",
    "    plt.show()\n",
    "\n",
    "plot(losses, \"BCE loss\")\n",
    "plot(dice_scores, \"Dice score\")\n",
    "plot(iou_scores, \"IoU score\")"
   ]
  },
  {
   "cell_type": "code",
   "execution_count": 19,
   "metadata": {},
   "outputs": [
    {
     "data": {
      "application/vnd.jupyter.widget-view+json": {
       "model_id": "fb3fda9c8e9747a8945417302314b453",
       "version_major": 2,
       "version_minor": 0
      },
      "text/plain": [
       "HBox(children=(IntProgress(value=0, max=101), HTML(value='')))"
      ]
     },
     "metadata": {},
     "output_type": "display_data"
    },
    {
     "name": "stdout",
     "output_type": "stream",
     "text": [
      "\n"
     ]
    }
   ],
   "source": [
    "size = 512\n",
    "mean = (0.485, 0.456, 0.406)\n",
    "std = (0.229, 0.224, 0.225)\n",
    "num_workers = 8\n",
    "batch_size = 64\n",
    "best_threshold = 0.5\n",
    "min_size = 3500\n",
    "device = torch.device(\"cuda:0\")\n",
    "df = pd.read_csv(sample_submission_path)\n",
    "testset = DataLoader(\n",
    "    TestDataset(test_data_folder, df, size, mean, std),\n",
    "    batch_size=batch_size,\n",
    "    shuffle=False,\n",
    "    num_workers=num_workers,\n",
    "    pin_memory=True,\n",
    ")\n",
    "\n",
    "# model = smp.Unet(\"se_resnext50_32x4d\", encoder_weights=\"imagenet\", activation=None)\n",
    "# if torch.cuda.device_count() > 1:\n",
    "#     print(\"Let's use\", torch.cuda.device_count(), \"GPUs!\")\n",
    "#     # dim = 0 [30, xxx] -> [10, ...], [10, ...], [10, ...] on 3 GPUs\n",
    "#     model = nn.DataParallel(model)\n",
    "model = model_trainer.model_compiler.net        \n",
    "model.eval()\n",
    "\n",
    "model_path = f'./stage2_model3_pytorch_unet_resnet34_CV{fold}-CLAHE-512.pth'\n",
    "state = torch.load(model_path, map_location=lambda storage, loc: storage)\n",
    "model.load_state_dict(state[\"state_dict\"])\n",
    "encoded_pixels = []\n",
    "for i, batch in enumerate(tqdm(testset)):\n",
    "    preds = torch.sigmoid(model(batch.to(device)))\n",
    "    preds = preds.detach().cpu().numpy()[:, 0, :, :] # (batch_size, 1, size, size) -> (batch_size, size, size)\n",
    "    for probability in preds:\n",
    "        if probability.shape != (1024, 1024):\n",
    "            probability = cv2.resize(probability, dsize=(1024, 1024), interpolation=cv2.INTER_LINEAR)\n",
    "        predict, num_predict = post_process(probability, best_threshold, min_size)\n",
    "        if num_predict == 0:\n",
    "            encoded_pixels.append('-1')\n",
    "        else:\n",
    "            r = run_length_encode(predict)\n",
    "            encoded_pixels.append(r)\n",
    "df['EncodedPixels'] = encoded_pixels\n",
    "df.to_csv(f'submission-stage2-3-unet-resnet34_cv{fold}in{total_folds}-CLAHE-512.csv', columns=['ImageId', 'EncodedPixels'], index=False)"
   ]
  },
  {
   "cell_type": "code",
   "execution_count": 18,
   "metadata": {},
   "outputs": [
    {
     "data": {
      "text/plain": [
       "'./model_pytorch__unet_resnet34_CV0-CLAHE-512.pth'"
      ]
     },
     "execution_count": 18,
     "metadata": {},
     "output_type": "execute_result"
    }
   ],
   "source": [
    "model_path"
   ]
  },
  {
   "cell_type": "code",
   "execution_count": 17,
   "metadata": {},
   "outputs": [
    {
     "data": {
      "text/html": [
       "<div>\n",
       "<style scoped>\n",
       "    .dataframe tbody tr th:only-of-type {\n",
       "        vertical-align: middle;\n",
       "    }\n",
       "\n",
       "    .dataframe tbody tr th {\n",
       "        vertical-align: top;\n",
       "    }\n",
       "\n",
       "    .dataframe thead th {\n",
       "        text-align: right;\n",
       "    }\n",
       "</style>\n",
       "<table border=\"1\" class=\"dataframe\">\n",
       "  <thead>\n",
       "    <tr style=\"text-align: right;\">\n",
       "      <th></th>\n",
       "      <th>ImageId</th>\n",
       "      <th>EncodedPixels</th>\n",
       "    </tr>\n",
       "  </thead>\n",
       "  <tbody>\n",
       "    <tr>\n",
       "      <th>0</th>\n",
       "      <td>1.2.276.0.7230010.3.1.4.8323329.6567.151787519...</td>\n",
       "      <td>-1</td>\n",
       "    </tr>\n",
       "    <tr>\n",
       "      <th>1</th>\n",
       "      <td>1.2.276.0.7230010.3.1.4.8323329.6170.151787519...</td>\n",
       "      <td>364717 3 1020 4 1018 6 1016 7 1015 10 1012 12 ...</td>\n",
       "    </tr>\n",
       "    <tr>\n",
       "      <th>2</th>\n",
       "      <td>1.2.276.0.7230010.3.1.4.8323329.6346.151787519...</td>\n",
       "      <td>183552 2 1015 10 1012 12 1010 14 1009 14 1007 ...</td>\n",
       "    </tr>\n",
       "    <tr>\n",
       "      <th>3</th>\n",
       "      <td>1.2.276.0.7230010.3.1.4.8323329.6890.151787520...</td>\n",
       "      <td>272653 4 1018 6 1015 9 1013 10 1012 12 1010 13...</td>\n",
       "    </tr>\n",
       "    <tr>\n",
       "      <th>4</th>\n",
       "      <td>1.2.276.0.7230010.3.1.4.8323329.6400.151787519...</td>\n",
       "      <td>549118 5 1014 15 1006 20 1001 25 997 30 992 34...</td>\n",
       "    </tr>\n",
       "  </tbody>\n",
       "</table>\n",
       "</div>"
      ],
      "text/plain": [
       "                                             ImageId  \\\n",
       "0  1.2.276.0.7230010.3.1.4.8323329.6567.151787519...   \n",
       "1  1.2.276.0.7230010.3.1.4.8323329.6170.151787519...   \n",
       "2  1.2.276.0.7230010.3.1.4.8323329.6346.151787519...   \n",
       "3  1.2.276.0.7230010.3.1.4.8323329.6890.151787520...   \n",
       "4  1.2.276.0.7230010.3.1.4.8323329.6400.151787519...   \n",
       "\n",
       "                                       EncodedPixels  \n",
       "0                                                 -1  \n",
       "1  364717 3 1020 4 1018 6 1016 7 1015 10 1012 12 ...  \n",
       "2  183552 2 1015 10 1012 12 1010 14 1009 14 1007 ...  \n",
       "3  272653 4 1018 6 1015 9 1013 10 1012 12 1010 13...  \n",
       "4  549118 5 1014 15 1006 20 1001 25 997 30 992 34...  "
      ]
     },
     "execution_count": 17,
     "metadata": {},
     "output_type": "execute_result"
    }
   ],
   "source": [
    "df.head()"
   ]
  },
  {
   "cell_type": "code",
   "execution_count": 25,
   "metadata": {},
   "outputs": [
    {
     "data": {
      "text/plain": [
       "(numpy.ndarray, (1024, 1024), numpy.ndarray, 1024)"
      ]
     },
     "execution_count": 25,
     "metadata": {},
     "output_type": "execute_result"
    }
   ],
   "source": [
    "type(probability), probability.shape, type(predict), len(predict)"
   ]
  },
  {
   "cell_type": "markdown",
   "metadata": {},
   "source": [
    "# ensemble 3"
   ]
  },
  {
   "cell_type": "code",
   "execution_count": 14,
   "metadata": {},
   "outputs": [
    {
     "ename": "NameError",
     "evalue": "name 'model_compiler' is not defined",
     "output_type": "error",
     "traceback": [
      "\u001b[0;31m---------------------------------------------------------------------------\u001b[0m",
      "\u001b[0;31mNameError\u001b[0m                                 Traceback (most recent call last)",
      "\u001b[0;32m<ipython-input-14-c7e647d5e7eb>\u001b[0m in \u001b[0;36m<module>\u001b[0;34m\u001b[0m\n\u001b[1;32m      1\u001b[0m \u001b[0;31m# del model, model_trainer,\u001b[0m\u001b[0;34m\u001b[0m\u001b[0;34m\u001b[0m\u001b[0;34m\u001b[0m\u001b[0m\n\u001b[0;32m----> 2\u001b[0;31m \u001b[0;32mdel\u001b[0m \u001b[0mmodel_compiler\u001b[0m\u001b[0;34m\u001b[0m\u001b[0;34m\u001b[0m\u001b[0m\n\u001b[0m\u001b[1;32m      3\u001b[0m \u001b[0mtorch\u001b[0m\u001b[0;34m.\u001b[0m\u001b[0mcuda\u001b[0m\u001b[0;34m.\u001b[0m\u001b[0mempty_cache\u001b[0m\u001b[0;34m(\u001b[0m\u001b[0;34m)\u001b[0m\u001b[0;34m\u001b[0m\u001b[0;34m\u001b[0m\u001b[0m\n",
      "\u001b[0;31mNameError\u001b[0m: name 'model_compiler' is not defined"
     ]
    }
   ],
   "source": [
    "# del model, model_trainer, \n",
    "del model_compiler\n",
    "torch.cuda.empty_cache()"
   ]
  },
  {
   "cell_type": "code",
   "execution_count": 17,
   "metadata": {},
   "outputs": [
    {
     "name": "stdout",
     "output_type": "stream",
     "text": [
      "Let's use 4 GPUs!\n"
     ]
    }
   ],
   "source": [
    "model = smp.Unet(\"resnet34\", encoder_weights=\"imagenet\", activation=None)\n",
    "if torch.cuda.device_count() > 1:\n",
    "    print(\"Let's use\", torch.cuda.device_count(), \"GPUs!\")\n",
    "    # dim = 0 [30, xxx] -> [10, ...], [10, ...], [10, ...] on 3 GPUs\n",
    "    model = nn.DataParallel(model)"
   ]
  },
  {
   "cell_type": "code",
   "execution_count": 18,
   "metadata": {},
   "outputs": [],
   "source": [
    "num_workers = 8\n",
    "batch_size=(80,54) # size 512 4 GPU\n",
    "lr = 1e-3\n",
    "n_epochs=12\n",
    "total_folds=3\n",
    "size = 512\n",
    "Optim_factor = 0.1\n",
    "Optim_patience = 4\n",
    "Optim_cooldown = 0\n",
    "mean = (0.485, 0.456, 0.406)\n",
    "std = (0.229, 0.224, 0.225)\n",
    "\n",
    "test_batch_size=48\n",
    "\n",
    "losses = []\n",
    "dice_scores = []\n",
    "iou_scores = []\n",
    "model_trainer = None"
   ]
  },
  {
   "cell_type": "code",
   "execution_count": 21,
   "metadata": {},
   "outputs": [
    {
     "name": "stdout",
     "output_type": "stream",
     "text": [
      "Let's use 4 GPUs!\n",
      "phase:  train\n",
      "original rows: 12954\n",
      "rows with mask: 3576, without mask: 9378\n",
      "sampled data to rows: 7152\n",
      "*****  phase train data set rows: 4768\n",
      "phase:  val\n",
      "original rows: 12954\n",
      "rows with mask: 3576, without mask: 9378\n",
      "sampled data to rows: 7152\n",
      "*****  phase val data set rows: 2384\n",
      "train on 0\n",
      "Starting epoch: 0 | phase: train | ⏰: 16:58:54\n",
      "Loss: 4.4856 | dice: 0.0277 | dice_neg: 0.0000 | dice_pos: 0.0549 | IoU: 0.0298\n",
      "Starting epoch: 0 | phase: val | ⏰: 17:00:50\n",
      "Loss: 3.2766 | dice: 0.0648 | dice_neg: 0.0000 | dice_pos: 0.1323 | IoU: 0.0782\n",
      "******** New optimal found, saving state ********\n",
      "\n",
      "Starting epoch: 1 | phase: train | ⏰: 17:01:31\n",
      "Loss: 2.6589 | dice: 0.0907 | dice_neg: 0.0004 | dice_pos: 0.1812 | IoU: 0.1144\n",
      "Starting epoch: 1 | phase: val | ⏰: 17:03:01\n",
      "Loss: 2.2373 | dice: 0.1187 | dice_neg: 0.0000 | dice_pos: 0.2392 | IoU: 0.1566\n",
      "******** New optimal found, saving state ********\n",
      "\n",
      "Starting epoch: 2 | phase: train | ⏰: 17:03:41\n",
      "Loss: 1.6579 | dice: 0.2324 | dice_neg: 0.2108 | dice_pos: 0.2558 | IoU: 0.1780\n",
      "Starting epoch: 2 | phase: val | ⏰: 17:05:11\n",
      "Loss: 1.6524 | dice: 0.2794 | dice_neg: 0.2834 | dice_pos: 0.2855 | IoU: 0.1968\n",
      "******** New optimal found, saving state ********\n",
      "\n",
      "Starting epoch: 3 | phase: train | ⏰: 17:05:50\n",
      "Loss: 1.2598 | dice: 0.4235 | dice_neg: 0.5507 | dice_pos: 0.2984 | IoU: 0.2159\n",
      "Starting epoch: 3 | phase: val | ⏰: 17:07:19\n",
      "Loss: 1.3628 | dice: 0.4795 | dice_neg: 0.6878 | dice_pos: 0.2734 | IoU: 0.1995\n",
      "******** New optimal found, saving state ********\n",
      "\n",
      "Starting epoch: 4 | phase: train | ⏰: 17:07:57\n",
      "Loss: 1.0918 | dice: 0.5019 | dice_neg: 0.6837 | dice_pos: 0.3207 | IoU: 0.2377\n",
      "Starting epoch: 4 | phase: val | ⏰: 17:09:27\n",
      "Loss: 1.3143 | dice: 0.4022 | dice_neg: 0.4941 | dice_pos: 0.3141 | IoU: 0.2261\n",
      "******** New optimal found, saving state ********\n",
      "\n",
      "Starting epoch: 5 | phase: train | ⏰: 17:10:06\n",
      "Loss: 0.9966 | dice: 0.5416 | dice_neg: 0.7453 | dice_pos: 0.3435 | IoU: 0.2562\n",
      "Starting epoch: 5 | phase: val | ⏰: 17:11:35\n",
      "Loss: 1.3473 | dice: 0.5022 | dice_neg: 0.7370 | dice_pos: 0.2612 | IoU: 0.1926\n",
      "\n",
      "Starting epoch: 6 | phase: train | ⏰: 17:12:13\n"
     ]
    },
    {
     "ename": "KeyboardInterrupt",
     "evalue": "",
     "output_type": "error",
     "traceback": [
      "\u001b[0;31m---------------------------------------------------------------------------\u001b[0m",
      "\u001b[0;31mKeyboardInterrupt\u001b[0m                         Traceback (most recent call last)",
      "\u001b[0;32m<ipython-input-21-1433911c9ef0>\u001b[0m in \u001b[0;36m<module>\u001b[0;34m\u001b[0m\n\u001b[1;32m     20\u001b[0m     \u001b[0mprint\u001b[0m\u001b[0;34m(\u001b[0m\u001b[0;34mf'train on {fold}'\u001b[0m\u001b[0;34m)\u001b[0m\u001b[0;34m\u001b[0m\u001b[0;34m\u001b[0m\u001b[0m\n\u001b[1;32m     21\u001b[0m \u001b[0;34m\u001b[0m\u001b[0m\n\u001b[0;32m---> 22\u001b[0;31m     \u001b[0mmodel_trainer\u001b[0m\u001b[0;34m.\u001b[0m\u001b[0mstart\u001b[0m\u001b[0;34m(\u001b[0m\u001b[0mmodel_path\u001b[0m\u001b[0;34m)\u001b[0m\u001b[0;34m\u001b[0m\u001b[0;34m\u001b[0m\u001b[0m\n\u001b[0m\u001b[1;32m     23\u001b[0m \u001b[0;34m\u001b[0m\u001b[0m\n\u001b[1;32m     24\u001b[0m     \u001b[0mlosses\u001b[0m\u001b[0;34m.\u001b[0m\u001b[0mappend\u001b[0m\u001b[0;34m(\u001b[0m\u001b[0mmodel_trainer\u001b[0m\u001b[0;34m.\u001b[0m\u001b[0mlosses\u001b[0m\u001b[0;34m)\u001b[0m\u001b[0;34m\u001b[0m\u001b[0;34m\u001b[0m\u001b[0m\n",
      "\u001b[0;32m<ipython-input-15-2f91a130279c>\u001b[0m in \u001b[0;36mstart\u001b[0;34m(self, model_path)\u001b[0m\n\u001b[1;32m    103\u001b[0m     \u001b[0;32mdef\u001b[0m \u001b[0mstart\u001b[0m\u001b[0;34m(\u001b[0m\u001b[0mself\u001b[0m\u001b[0;34m,\u001b[0m \u001b[0mmodel_path\u001b[0m \u001b[0;34m=\u001b[0m \u001b[0;34m'./model_pytorch__unet_resnet34.pth'\u001b[0m\u001b[0;34m)\u001b[0m\u001b[0;34m:\u001b[0m\u001b[0;34m\u001b[0m\u001b[0;34m\u001b[0m\u001b[0m\n\u001b[1;32m    104\u001b[0m         \u001b[0;32mfor\u001b[0m \u001b[0mepoch\u001b[0m \u001b[0;32min\u001b[0m \u001b[0mrange\u001b[0m\u001b[0;34m(\u001b[0m\u001b[0mself\u001b[0m\u001b[0;34m.\u001b[0m\u001b[0mnum_epochs\u001b[0m\u001b[0;34m)\u001b[0m\u001b[0;34m:\u001b[0m\u001b[0;34m\u001b[0m\u001b[0;34m\u001b[0m\u001b[0m\n\u001b[0;32m--> 105\u001b[0;31m             \u001b[0mself\u001b[0m\u001b[0;34m.\u001b[0m\u001b[0miterate\u001b[0m\u001b[0;34m(\u001b[0m\u001b[0mepoch\u001b[0m\u001b[0;34m,\u001b[0m \u001b[0;34m\"train\"\u001b[0m\u001b[0;34m)\u001b[0m\u001b[0;34m\u001b[0m\u001b[0;34m\u001b[0m\u001b[0m\n\u001b[0m\u001b[1;32m    106\u001b[0m             state = {\n\u001b[1;32m    107\u001b[0m                 \u001b[0;34m\"epoch\"\u001b[0m\u001b[0;34m:\u001b[0m \u001b[0mepoch\u001b[0m\u001b[0;34m,\u001b[0m\u001b[0;34m\u001b[0m\u001b[0;34m\u001b[0m\u001b[0m\n",
      "\u001b[0;32m<ipython-input-15-2f91a130279c>\u001b[0m in \u001b[0;36miterate\u001b[0;34m(self, epoch, phase)\u001b[0m\n\u001b[1;32m     91\u001b[0m             \u001b[0mrunning_loss\u001b[0m \u001b[0;34m+=\u001b[0m \u001b[0mloss\u001b[0m\u001b[0;34m.\u001b[0m\u001b[0mitem\u001b[0m\u001b[0;34m(\u001b[0m\u001b[0;34m)\u001b[0m\u001b[0;34m\u001b[0m\u001b[0;34m\u001b[0m\u001b[0m\n\u001b[1;32m     92\u001b[0m             \u001b[0moutputs\u001b[0m \u001b[0;34m=\u001b[0m \u001b[0moutputs\u001b[0m\u001b[0;34m.\u001b[0m\u001b[0mdetach\u001b[0m\u001b[0;34m(\u001b[0m\u001b[0;34m)\u001b[0m\u001b[0;34m.\u001b[0m\u001b[0mcpu\u001b[0m\u001b[0;34m(\u001b[0m\u001b[0;34m)\u001b[0m\u001b[0;34m\u001b[0m\u001b[0;34m\u001b[0m\u001b[0m\n\u001b[0;32m---> 93\u001b[0;31m             \u001b[0mmeter\u001b[0m\u001b[0;34m.\u001b[0m\u001b[0mupdate\u001b[0m\u001b[0;34m(\u001b[0m\u001b[0mtargets\u001b[0m\u001b[0;34m,\u001b[0m \u001b[0moutputs\u001b[0m\u001b[0;34m)\u001b[0m\u001b[0;34m\u001b[0m\u001b[0;34m\u001b[0m\u001b[0m\n\u001b[0m\u001b[1;32m     94\u001b[0m \u001b[0;31m#             tk0.set_postfix(loss=(running_loss / ((itr + 1))))\u001b[0m\u001b[0;34m\u001b[0m\u001b[0;34m\u001b[0m\u001b[0;34m\u001b[0m\u001b[0m\n\u001b[1;32m     95\u001b[0m         \u001b[0mepoch_loss\u001b[0m \u001b[0;34m=\u001b[0m \u001b[0;34m(\u001b[0m\u001b[0mrunning_loss\u001b[0m \u001b[0;34m*\u001b[0m \u001b[0mself\u001b[0m\u001b[0;34m.\u001b[0m\u001b[0maccumulation_steps\u001b[0m\u001b[0;34m)\u001b[0m \u001b[0;34m/\u001b[0m \u001b[0mtotal_batches\u001b[0m\u001b[0;34m\u001b[0m\u001b[0;34m\u001b[0m\u001b[0m\n",
      "\u001b[0;32m<ipython-input-10-0696f00ae82b>\u001b[0m in \u001b[0;36mupdate\u001b[0;34m(self, targets, outputs)\u001b[0m\n\u001b[1;32m     48\u001b[0m     \u001b[0;32mdef\u001b[0m \u001b[0mupdate\u001b[0m\u001b[0;34m(\u001b[0m\u001b[0mself\u001b[0m\u001b[0;34m,\u001b[0m \u001b[0mtargets\u001b[0m\u001b[0;34m,\u001b[0m \u001b[0moutputs\u001b[0m\u001b[0;34m)\u001b[0m\u001b[0;34m:\u001b[0m\u001b[0;34m\u001b[0m\u001b[0;34m\u001b[0m\u001b[0m\n\u001b[1;32m     49\u001b[0m         \u001b[0mprobs\u001b[0m \u001b[0;34m=\u001b[0m \u001b[0mtorch\u001b[0m\u001b[0;34m.\u001b[0m\u001b[0msigmoid\u001b[0m\u001b[0;34m(\u001b[0m\u001b[0moutputs\u001b[0m\u001b[0;34m)\u001b[0m\u001b[0;34m\u001b[0m\u001b[0;34m\u001b[0m\u001b[0m\n\u001b[0;32m---> 50\u001b[0;31m         \u001b[0mdice\u001b[0m\u001b[0;34m,\u001b[0m \u001b[0mdice_neg\u001b[0m\u001b[0;34m,\u001b[0m \u001b[0mdice_pos\u001b[0m\u001b[0;34m,\u001b[0m \u001b[0m_\u001b[0m\u001b[0;34m,\u001b[0m \u001b[0m_\u001b[0m \u001b[0;34m=\u001b[0m \u001b[0mmetric\u001b[0m\u001b[0;34m(\u001b[0m\u001b[0mprobs\u001b[0m\u001b[0;34m,\u001b[0m \u001b[0mtargets\u001b[0m\u001b[0;34m,\u001b[0m \u001b[0mself\u001b[0m\u001b[0;34m.\u001b[0m\u001b[0mbase_threshold\u001b[0m\u001b[0;34m)\u001b[0m\u001b[0;34m\u001b[0m\u001b[0;34m\u001b[0m\u001b[0m\n\u001b[0m\u001b[1;32m     51\u001b[0m         \u001b[0mself\u001b[0m\u001b[0;34m.\u001b[0m\u001b[0mbase_dice_scores\u001b[0m\u001b[0;34m.\u001b[0m\u001b[0mappend\u001b[0m\u001b[0;34m(\u001b[0m\u001b[0mdice\u001b[0m\u001b[0;34m)\u001b[0m\u001b[0;34m\u001b[0m\u001b[0;34m\u001b[0m\u001b[0m\n\u001b[1;32m     52\u001b[0m         \u001b[0mself\u001b[0m\u001b[0;34m.\u001b[0m\u001b[0mdice_pos_scores\u001b[0m\u001b[0;34m.\u001b[0m\u001b[0mappend\u001b[0m\u001b[0;34m(\u001b[0m\u001b[0mdice_pos\u001b[0m\u001b[0;34m)\u001b[0m\u001b[0;34m\u001b[0m\u001b[0;34m\u001b[0m\u001b[0m\n",
      "\u001b[0;32m<ipython-input-10-0696f00ae82b>\u001b[0m in \u001b[0;36mmetric\u001b[0;34m(probability, truth, threshold, reduction)\u001b[0m\n\u001b[1;32m     22\u001b[0m \u001b[0;34m\u001b[0m\u001b[0m\n\u001b[1;32m     23\u001b[0m         \u001b[0mdice_neg\u001b[0m \u001b[0;34m=\u001b[0m \u001b[0;34m(\u001b[0m\u001b[0mp_sum\u001b[0m \u001b[0;34m==\u001b[0m \u001b[0;36m0\u001b[0m\u001b[0;34m)\u001b[0m\u001b[0;34m.\u001b[0m\u001b[0mfloat\u001b[0m\u001b[0;34m(\u001b[0m\u001b[0;34m)\u001b[0m\u001b[0;34m\u001b[0m\u001b[0;34m\u001b[0m\u001b[0m\n\u001b[0;32m---> 24\u001b[0;31m         \u001b[0mdice_pos\u001b[0m \u001b[0;34m=\u001b[0m \u001b[0;36m2\u001b[0m \u001b[0;34m*\u001b[0m \u001b[0;34m(\u001b[0m\u001b[0mp\u001b[0m\u001b[0;34m*\u001b[0m\u001b[0mt\u001b[0m\u001b[0;34m)\u001b[0m\u001b[0;34m.\u001b[0m\u001b[0msum\u001b[0m\u001b[0;34m(\u001b[0m\u001b[0;34m-\u001b[0m\u001b[0;36m1\u001b[0m\u001b[0;34m)\u001b[0m\u001b[0;34m/\u001b[0m\u001b[0;34m(\u001b[0m\u001b[0;34m(\u001b[0m\u001b[0mp\u001b[0m\u001b[0;34m+\u001b[0m\u001b[0mt\u001b[0m\u001b[0;34m)\u001b[0m\u001b[0;34m.\u001b[0m\u001b[0msum\u001b[0m\u001b[0;34m(\u001b[0m\u001b[0;34m-\u001b[0m\u001b[0;36m1\u001b[0m\u001b[0;34m)\u001b[0m\u001b[0;34m)\u001b[0m\u001b[0;34m\u001b[0m\u001b[0;34m\u001b[0m\u001b[0m\n\u001b[0m\u001b[1;32m     25\u001b[0m \u001b[0;34m\u001b[0m\u001b[0m\n\u001b[1;32m     26\u001b[0m         \u001b[0mdice_neg\u001b[0m \u001b[0;34m=\u001b[0m \u001b[0mdice_neg\u001b[0m\u001b[0;34m[\u001b[0m\u001b[0mneg_index\u001b[0m\u001b[0;34m]\u001b[0m\u001b[0;34m\u001b[0m\u001b[0;34m\u001b[0m\u001b[0m\n",
      "\u001b[0;31mKeyboardInterrupt\u001b[0m: "
     ]
    }
   ],
   "source": [
    "\n",
    "for i in range(3):\n",
    "    fold = i\n",
    "    del model, model_trainer\n",
    "    torch.cuda.empty_cache()\n",
    "    \n",
    "    model = smp.Unet(\"resnet34\", encoder_weights=\"imagenet\", activation=None)\n",
    "    if torch.cuda.device_count() > 1:\n",
    "        print(\"Let's use\", torch.cuda.device_count(), \"GPUs!\")\n",
    "        # dim = 0 [30, xxx] -> [10, ...], [10, ...], [10, ...] on 3 GPUs\n",
    "        model = nn.DataParallel(model)\n",
    "    model_compiler = ModelCompiler(model)\n",
    "\n",
    "    down_sample=True\n",
    "    model_trainer = Trainer(model_compiler, num_workers = num_workers, \n",
    "                        batch_size=batch_size, lr = lr, n_epochs=n_epochs, seed = 54221 + i,\n",
    "                        total_folds=total_folds, fold=fold, size=size, sample=None, down_sample=down_sample,\n",
    "                        Optim_factor=Optim_factor, Optim_patience=Optim_patience, Optim_cooldown=Optim_cooldown)\n",
    "    \n",
    "    model_path = f'./stage2_model2_pytorch_unet_resnet34_CV{fold}in{total_folds}-CLAHE.pth'\n",
    "    print(f'train on {fold}')\n",
    "\n",
    "    model_trainer.start(model_path)\n",
    "\n",
    "    losses.append(model_trainer.losses)\n",
    "    dice_scores.append(model_trainer.dice_scores) # overall dice\n",
    "    iou_scores.append(model_trainer.iou_scores)\n",
    "    \n",
    "    \n",
    "    # write to submit\n",
    "    print(f'run test {fold}')\n",
    "    best_threshold = 0.5\n",
    "    min_size = 3500\n",
    "    device = torch.device(\"cuda:0\")\n",
    "    te_df = pd.read_csv(sample_submission_path)\n",
    "    testset = DataLoader(\n",
    "        TestDataset(test_data_folder, te_df, size, mean, std),\n",
    "        batch_size=test_batch_size,\n",
    "        shuffle=False,\n",
    "        num_workers=num_workers,\n",
    "        pin_memory=True,\n",
    "    )\n",
    "    interpretor = model_trainer.model_compiler.net        \n",
    "    interpretor.eval()\n",
    "    state = torch.load(model_path, map_location=lambda storage, loc: storage)\n",
    "    interpretor.load_state_dict(state[\"state_dict\"])\n",
    "\n",
    "\n",
    "    encoded_pixels = []\n",
    "    for i, batch in enumerate(tqdm(testset)):\n",
    "        preds = torch.sigmoid(interpretor(batch.to(device)))\n",
    "        preds = preds.detach().cpu().numpy()[:, 0, :, :] # (batch_size, 1, size, size) -> (batch_size, size, size)\n",
    "        for probability in preds:\n",
    "            if probability.shape != (1024, 1024):\n",
    "                probability = cv2.resize(probability, dsize=(1024, 1024), interpolation=cv2.INTER_LINEAR)\n",
    "            predict, num_predict = post_process(probability, best_threshold, min_size)\n",
    "            if num_predict == 0:\n",
    "                encoded_pixels.append('-1')\n",
    "            else:\n",
    "                r = run_length_encode(predict)\n",
    "                encoded_pixels.append(r)\n",
    "    te_df['EncodedPixels'] = encoded_pixels\n",
    "    te_df.to_csv(f'submission-stage2-5-unet-resnet34_cv{fold}in{total_folds}-CLAHE-512.csv', columns=['ImageId', 'EncodedPixels'], index=False)"
   ]
  },
  {
   "cell_type": "code",
   "execution_count": 22,
   "metadata": {},
   "outputs": [],
   "source": [
    "def plot(scores, name):\n",
    "    plt.figure(figsize=(15,5))\n",
    "    plt.plot(range(len(scores[\"train\"])), scores[\"train\"], label=f'train {name}')\n",
    "    plt.plot(range(len(scores[\"train\"])), scores[\"val\"], label=f'val {name}')\n",
    "    plt.title(f'{name} plot'); plt.xlabel('Epoch'); plt.ylabel(f'{name}');\n",
    "    plt.legend(); \n",
    "    plt.show()"
   ]
  },
  {
   "cell_type": "code",
   "execution_count": null,
   "metadata": {},
   "outputs": [],
   "source": [
    "cv = 0\n",
    "plot(losses[cv], f\"CV-{cv} BCE loss\")\n",
    "plot(dice_scores[cv], f\"CV-{cv} Dice score\")\n",
    "plot(iou_scores[cv], f\"CV-{cv} IoU score\")\n"
   ]
  },
  {
   "cell_type": "code",
   "execution_count": null,
   "metadata": {},
   "outputs": [],
   "source": [
    "cv = 1\n",
    "plot(losses[cv], f\"CV-{cv} BCE loss\")\n",
    "plot(dice_scores[cv], f\"CV-{cv} Dice score\")\n",
    "plot(iou_scores[cv], f\"CV-{cv} IoU score\")\n"
   ]
  },
  {
   "cell_type": "code",
   "execution_count": 23,
   "metadata": {},
   "outputs": [
    {
     "ename": "IndexError",
     "evalue": "list index out of range",
     "output_type": "error",
     "traceback": [
      "\u001b[0;31m---------------------------------------------------------------------------\u001b[0m",
      "\u001b[0;31mIndexError\u001b[0m                                Traceback (most recent call last)",
      "\u001b[0;32m<ipython-input-23-4b683ac075c4>\u001b[0m in \u001b[0;36m<module>\u001b[0;34m\u001b[0m\n\u001b[1;32m      1\u001b[0m \u001b[0mcv\u001b[0m \u001b[0;34m=\u001b[0m \u001b[0;36m2\u001b[0m\u001b[0;34m\u001b[0m\u001b[0;34m\u001b[0m\u001b[0m\n\u001b[0;32m----> 2\u001b[0;31m \u001b[0mplot\u001b[0m\u001b[0;34m(\u001b[0m\u001b[0mlosses\u001b[0m\u001b[0;34m[\u001b[0m\u001b[0mcv\u001b[0m\u001b[0;34m]\u001b[0m\u001b[0;34m,\u001b[0m \u001b[0;34mf\"CV-{cv} BCE loss\"\u001b[0m\u001b[0;34m)\u001b[0m\u001b[0;34m\u001b[0m\u001b[0;34m\u001b[0m\u001b[0m\n\u001b[0m\u001b[1;32m      3\u001b[0m \u001b[0mplot\u001b[0m\u001b[0;34m(\u001b[0m\u001b[0mdice_scores\u001b[0m\u001b[0;34m[\u001b[0m\u001b[0mcv\u001b[0m\u001b[0;34m]\u001b[0m\u001b[0;34m,\u001b[0m \u001b[0;34mf\"CV-{cv} Dice score\"\u001b[0m\u001b[0;34m)\u001b[0m\u001b[0;34m\u001b[0m\u001b[0;34m\u001b[0m\u001b[0m\n\u001b[1;32m      4\u001b[0m \u001b[0mplot\u001b[0m\u001b[0;34m(\u001b[0m\u001b[0miou_scores\u001b[0m\u001b[0;34m[\u001b[0m\u001b[0mcv\u001b[0m\u001b[0;34m]\u001b[0m\u001b[0;34m,\u001b[0m \u001b[0;34mf\"CV-{cv} IoU score\"\u001b[0m\u001b[0;34m)\u001b[0m\u001b[0;34m\u001b[0m\u001b[0;34m\u001b[0m\u001b[0m\n",
      "\u001b[0;31mIndexError\u001b[0m: list index out of range"
     ]
    }
   ],
   "source": [
    "cv = 2\n",
    "plot(losses[cv], f\"CV-{cv} BCE loss\")\n",
    "plot(dice_scores[cv], f\"CV-{cv} Dice score\")\n",
    "plot(iou_scores[cv], f\"CV-{cv} IoU score\")\n"
   ]
  },
  {
   "cell_type": "markdown",
   "metadata": {},
   "source": [
    "# ensemble\n"
   ]
  },
  {
   "cell_type": "code",
   "execution_count": 43,
   "metadata": {},
   "outputs": [
    {
     "name": "stdout",
     "output_type": "stream",
     "text": [
      "2\n"
     ]
    }
   ],
   "source": [
    "# read all submissions into daframes and store them in a list\n",
    "from glob import glob\n",
    "# files = glob('./submission-stage2-*')\n",
    "files = ['submission-stage2-2-unet-resnet34_cv0in5-CLAHE-512.csv', 'submission-stage2-3-unet-resnet34_cv2in5-CLAHE-512.csv']\n",
    "df_sub_list = [pd.read_csv(f) for f in files]\n",
    "print(len(df_sub_list))"
   ]
  },
  {
   "cell_type": "code",
   "execution_count": 44,
   "metadata": {},
   "outputs": [
    {
     "name": "stdout",
     "output_type": "stream",
     "text": [
      "3205 unique image IDs.\n"
     ]
    }
   ],
   "source": [
    "# create a list of unique image IDs\n",
    "iid_list = df_sub_list[0][\"ImageId\"].unique()\n",
    "print(f\"{len(iid_list)} unique image IDs.\")"
   ]
  },
  {
   "cell_type": "code",
   "execution_count": 45,
   "metadata": {},
   "outputs": [],
   "source": [
    "# set here the threshold for the final mask\n",
    "# min_solutions is the minimum number of times that a pixel has to be positive in order to be included in the final mask\n",
    "min_solutions = 2 # a number between 1 and the number of submission files\n",
    "assert (min_solutions >= 1 and min_solutions <= len(df_sub_list)), \\\n",
    "    \"min_solutions has to be a number between 1 and the number of submission files\""
   ]
  },
  {
   "cell_type": "code",
   "execution_count": 46,
   "metadata": {},
   "outputs": [
    {
     "data": {
      "application/vnd.jupyter.widget-view+json": {
       "model_id": "94f848caad834cf3bf0d19f583431972",
       "version_major": 2,
       "version_minor": 0
      },
      "text/plain": [
       "HBox(children=(IntProgress(value=0, max=3205), HTML(value='')))"
      ]
     },
     "metadata": {},
     "output_type": "display_data"
    },
    {
     "name": "stdout",
     "output_type": "stream",
     "text": [
      "\n"
     ]
    }
   ],
   "source": [
    "# create empty final dataframe\n",
    "df_avg_sub = pd.DataFrame(columns=[\"ImageId\", \"EncodedPixels\"])\n",
    "df_avg_sub_idx = 0 # counter for the index of the final dataframe\n",
    "from input.mask_functions import *\n",
    "import skimage\n",
    "# iterate over image IDs\n",
    "for iid in tqdm(iid_list):\n",
    "    # initialize prediction mask\n",
    "    avg_mask = np.zeros((1024,1024))\n",
    "    # iterate over prediction dataframes\n",
    "    for df_sub in df_sub_list:\n",
    "        # extract rles for each image ID and submission dataframe\n",
    "        rles = df_sub.loc[df_sub[\"ImageId\"]==iid, \"EncodedPixels\"]\n",
    "        # iterate over rles\n",
    "        for rle in rles:\n",
    "            # if rle is not -1, build prediction mask and add to average mask\n",
    "            if \"-1\" not in str(rle):\n",
    "                avg_mask += rle2mask(rle, 1024, 1024) / float(len(df_sub_list))\n",
    "    # threshold the average mask\n",
    "    avg_mask = (avg_mask >= (min_solutions * 255. / float(len(df_sub_list)))).astype(\"uint8\")\n",
    "    # extract rles from the average mask\n",
    "    avg_rle_list = []\n",
    "    if avg_mask.max() > 0:\n",
    "        # label regions\n",
    "        labeled_avg_mask, n_labels = skimage.measure.label(avg_mask, return_num=True)\n",
    "        # iterate over regions, extract rle, and save to a list\n",
    "        for label in range(1, n_labels+1):\n",
    "            avg_rle = mask2rle((255 * (labeled_avg_mask == label)).astype(\"uint8\"), 1024, 1024)\n",
    "            avg_rle_list.append(avg_rle)\n",
    "    else:\n",
    "        avg_rle_list.append(\"-1\")\n",
    "    # iterate over average rles and create a row in the final dataframe\n",
    "    for avg_rle in avg_rle_list:\n",
    "        df_avg_sub.loc[df_avg_sub_idx] = [iid, avg_rle]\n",
    "        df_avg_sub_idx += 1 # increment index"
   ]
  },
  {
   "cell_type": "code",
   "execution_count": 34,
   "metadata": {},
   "outputs": [
    {
     "data": {
      "text/plain": [
       "(3286, 2)"
      ]
     },
     "execution_count": 34,
     "metadata": {},
     "output_type": "execute_result"
    }
   ],
   "source": [
    "df_avg_sub.shape\n"
   ]
  },
  {
   "cell_type": "code",
   "execution_count": 35,
   "metadata": {},
   "outputs": [
    {
     "data": {
      "text/plain": [
       "3205"
      ]
     },
     "execution_count": 35,
     "metadata": {},
     "output_type": "execute_result"
    }
   ],
   "source": [
    "df_avg_sub[\"ImageId\"].nunique()"
   ]
  },
  {
   "cell_type": "code",
   "execution_count": 36,
   "metadata": {},
   "outputs": [
    {
     "data": {
      "text/html": [
       "<div>\n",
       "<style scoped>\n",
       "    .dataframe tbody tr th:only-of-type {\n",
       "        vertical-align: middle;\n",
       "    }\n",
       "\n",
       "    .dataframe tbody tr th {\n",
       "        vertical-align: top;\n",
       "    }\n",
       "\n",
       "    .dataframe thead th {\n",
       "        text-align: right;\n",
       "    }\n",
       "</style>\n",
       "<table border=\"1\" class=\"dataframe\">\n",
       "  <thead>\n",
       "    <tr style=\"text-align: right;\">\n",
       "      <th></th>\n",
       "      <th>ImageId</th>\n",
       "      <th>EncodedPixels</th>\n",
       "    </tr>\n",
       "  </thead>\n",
       "  <tbody>\n",
       "    <tr>\n",
       "      <th>0</th>\n",
       "      <td>ID_0011fe81e</td>\n",
       "      <td>-1</td>\n",
       "    </tr>\n",
       "    <tr>\n",
       "      <th>1</th>\n",
       "      <td>ID_9ca06e9b9</td>\n",
       "      <td>-1</td>\n",
       "    </tr>\n",
       "    <tr>\n",
       "      <th>2</th>\n",
       "      <td>ID_6f00d6ce6</td>\n",
       "      <td>-1</td>\n",
       "    </tr>\n",
       "    <tr>\n",
       "      <th>3</th>\n",
       "      <td>ID_9258110b0</td>\n",
       "      <td>-1</td>\n",
       "    </tr>\n",
       "    <tr>\n",
       "      <th>4</th>\n",
       "      <td>ID_fa01c9546</td>\n",
       "      <td>323844 2 1 4 1015 11 1010 14 1008 18 1004 22 1...</td>\n",
       "    </tr>\n",
       "  </tbody>\n",
       "</table>\n",
       "</div>"
      ],
      "text/plain": [
       "        ImageId                                      EncodedPixels\n",
       "0  ID_0011fe81e                                                 -1\n",
       "1  ID_9ca06e9b9                                                 -1\n",
       "2  ID_6f00d6ce6                                                 -1\n",
       "3  ID_9258110b0                                                 -1\n",
       "4  ID_fa01c9546  323844 2 1 4 1015 11 1010 14 1008 18 1004 22 1..."
      ]
     },
     "execution_count": 36,
     "metadata": {},
     "output_type": "execute_result"
    }
   ],
   "source": [
    "df_avg_sub.head()"
   ]
  },
  {
   "cell_type": "code",
   "execution_count": 47,
   "metadata": {},
   "outputs": [],
   "source": [
    "df_avg_sub.to_csv(f'submission-ensemble2-all.csv', columns=['ImageId', 'EncodedPixels'], index=False)"
   ]
  },
  {
   "cell_type": "code",
   "execution_count": 48,
   "metadata": {},
   "outputs": [
    {
     "data": {
      "text/plain": [
       "0.09904054472299598"
      ]
     },
     "execution_count": 48,
     "metadata": {},
     "output_type": "execute_result"
    }
   ],
   "source": [
    "(df_avg_sub['EncodedPixels'] != '-1').mean()"
   ]
  },
  {
   "cell_type": "code",
   "execution_count": 27,
   "metadata": {},
   "outputs": [
    {
     "data": {
      "text/plain": [
       "0.08471965495995071"
      ]
     },
     "execution_count": 27,
     "metadata": {},
     "output_type": "execute_result"
    }
   ],
   "source": [
    "(df_avg_sub['EncodedPixels'] != '-1').mean()"
   ]
  },
  {
   "cell_type": "code",
   "execution_count": 29,
   "metadata": {},
   "outputs": [
    {
     "data": {
      "text/plain": [
       "0.12480499219968799"
      ]
     },
     "execution_count": 29,
     "metadata": {},
     "output_type": "execute_result"
    }
   ],
   "source": [
    "df = pd.read_csv('submission-stage2-2-unet-resnet34_cv0in5-CLAHE-512.csv')\n",
    "(df['EncodedPixels'] != '-1').mean()"
   ]
  },
  {
   "cell_type": "code",
   "execution_count": 34,
   "metadata": {},
   "outputs": [
    {
     "data": {
      "text/plain": [
       "0.27769110764430577"
      ]
     },
     "execution_count": 34,
     "metadata": {},
     "output_type": "execute_result"
    }
   ],
   "source": [
    "df = pd.read_csv('submission-stage2-4-unet-resnet34_cv1in3-CLAHE-512.csv')\n",
    "(df['EncodedPixels'] != '-1').mean()"
   ]
  },
  {
   "cell_type": "code",
   "execution_count": 36,
   "metadata": {},
   "outputs": [
    {
     "data": {
      "text/plain": [
       "0.14258970358814352"
      ]
     },
     "execution_count": 36,
     "metadata": {},
     "output_type": "execute_result"
    }
   ],
   "source": [
    "df = pd.read_csv('submission-stage2-3-unet-resnet34_cv2in5-CLAHE-512.csv')\n",
    "(df['EncodedPixels'] != '-1').mean()"
   ]
  },
  {
   "cell_type": "code",
   "execution_count": null,
   "metadata": {},
   "outputs": [],
   "source": []
  }
 ],
 "metadata": {
  "kernelspec": {
   "display_name": "Python 3",
   "language": "python",
   "name": "python3"
  },
  "language_info": {
   "codemirror_mode": {
    "name": "ipython",
    "version": 3
   },
   "file_extension": ".py",
   "mimetype": "text/x-python",
   "name": "python",
   "nbconvert_exporter": "python",
   "pygments_lexer": "ipython3",
   "version": "3.7.4"
  }
 },
 "nbformat": 4,
 "nbformat_minor": 1
}
